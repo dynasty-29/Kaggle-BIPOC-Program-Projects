{
  "nbformat": 4,
  "nbformat_minor": 0,
  "metadata": {
    "colab": {
      "provenance": []
    },
    "kernelspec": {
      "name": "python3",
      "display_name": "Python 3"
    },
    "language_info": {
      "name": "python"
    }
  },
  "cells": [
    {
      "cell_type": "markdown",
      "source": [
        "# **House Price Prediction: A linear Regression Case study**\n",
        "\n",
        "---\n",
        "\n",
        "\n",
        "## **Introduction.**\n",
        "Linear regression is a supervised machine learning algorithm that is used to predict a continuous value. It is based on the idea of finding a line of best fit that can be used to predict the value of a dependent variable based on the value of an independent variable.\n",
        "\n",
        "Normally the formula behind linear regression is:\n",
        "\n",
        "      *  y = mx + b*\n",
        "\n",
        "For this case study will be going through House price prediction. The casse study will help up decode what linear regression is and what it entails. Prediction of property prices is becoming increasingly important and beneficial. Property prices are a good indicator of both the overall market condition and the economic health of a country. Considering the data provided, we are wrangling a large set of property sales records stored in an unknown format and with unknown data quality issues.  The Data is obtained from [kaggle](https://www.kaggle.com/datasets/shree1992/housedata).\n",
        "\n",
        "\n",
        "\n"
      ],
      "metadata": {
        "id": "v0qjyr58pcxZ"
      }
    },
    {
      "cell_type": "markdown",
      "source": [
        "### **Business Understanding**\n",
        "\n",
        "The **Main objective** of the case study is to predict house prices based on the variables given.\n",
        "\n",
        "**Metrics for success:** \n",
        "\n",
        " * Building a linear regression model that can predict house prices (Best model should have the lowest RMSE).\n",
        "* Identifying the top factors influencing the House Prices.\n"
      ],
      "metadata": {
        "id": "iEPI7Kjsd3HX"
      }
    },
    {
      "cell_type": "markdown",
      "source": [
        "### **1. Importing necessary Libraries**"
      ],
      "metadata": {
        "id": "7I9XxNBxp_Vg"
      }
    },
    {
      "cell_type": "code",
      "execution_count": 1,
      "metadata": {
        "id": "1BUzo1F8AsBw"
      },
      "outputs": [],
      "source": [
        "import pandas as pd\n",
        "import numpy as np\n",
        "import seaborn as sns\n",
        "import matplotlib.pyplot as plt\n",
        "import warnings \n",
        "warnings.filterwarnings('ignore')"
      ]
    },
    {
      "cell_type": "markdown",
      "source": [
        "### **2. Loading and previewing the data set**\n",
        "\n"
      ],
      "metadata": {
        "id": "DOAX0kECqVZq"
      }
    },
    {
      "cell_type": "code",
      "source": [
        "#load and preview data set\n",
        "df = pd.read_csv('/content/HousePredictionDataset.csv')\n",
        "df.head()"
      ],
      "metadata": {
        "colab": {
          "base_uri": "https://localhost:8080/",
          "height": 206
        },
        "id": "9AT-uGzupcDi",
        "outputId": "9a32e494-c82d-46a3-b62d-952778499f22"
      },
      "execution_count": 2,
      "outputs": [
        {
          "output_type": "execute_result",
          "data": {
            "text/plain": [
              "                  date      price  bedrooms  bathrooms  sqft_living  sqft_lot  \\\n",
              "0  2014-05-02 00:00:00   313000.0       3.0       1.50         1340      7912   \n",
              "1  2014-05-02 00:00:00  2384000.0       5.0       2.50         3650      9050   \n",
              "2  2014-05-02 00:00:00   342000.0       3.0       2.00         1930     11947   \n",
              "3  2014-05-02 00:00:00   420000.0       3.0       2.25         2000      8030   \n",
              "4  2014-05-02 00:00:00   550000.0       4.0       2.50         1940     10500   \n",
              "\n",
              "   floors  waterfront  view  condition  sqft_above  sqft_basement  yr_built  \\\n",
              "0     1.5           0     0          3        1340              0      1955   \n",
              "1     2.0           0     4          5        3370            280      1921   \n",
              "2     1.0           0     0          4        1930              0      1966   \n",
              "3     1.0           0     0          4        1000           1000      1963   \n",
              "4     1.0           0     0          4        1140            800      1976   \n",
              "\n",
              "   yr_renovated                    street       city  statezip country  \n",
              "0          2005      18810 Densmore Ave N  Shoreline  WA 98133     USA  \n",
              "1             0           709 W Blaine St    Seattle  WA 98119     USA  \n",
              "2             0  26206-26214 143rd Ave SE       Kent  WA 98042     USA  \n",
              "3             0           857 170th Pl NE   Bellevue  WA 98008     USA  \n",
              "4          1992         9105 170th Ave NE    Redmond  WA 98052     USA  "
            ],
            "text/html": [
              "\n",
              "  <div id=\"df-a380d7c7-6db9-452e-b98d-b8b9e8f482c6\">\n",
              "    <div class=\"colab-df-container\">\n",
              "      <div>\n",
              "<style scoped>\n",
              "    .dataframe tbody tr th:only-of-type {\n",
              "        vertical-align: middle;\n",
              "    }\n",
              "\n",
              "    .dataframe tbody tr th {\n",
              "        vertical-align: top;\n",
              "    }\n",
              "\n",
              "    .dataframe thead th {\n",
              "        text-align: right;\n",
              "    }\n",
              "</style>\n",
              "<table border=\"1\" class=\"dataframe\">\n",
              "  <thead>\n",
              "    <tr style=\"text-align: right;\">\n",
              "      <th></th>\n",
              "      <th>date</th>\n",
              "      <th>price</th>\n",
              "      <th>bedrooms</th>\n",
              "      <th>bathrooms</th>\n",
              "      <th>sqft_living</th>\n",
              "      <th>sqft_lot</th>\n",
              "      <th>floors</th>\n",
              "      <th>waterfront</th>\n",
              "      <th>view</th>\n",
              "      <th>condition</th>\n",
              "      <th>sqft_above</th>\n",
              "      <th>sqft_basement</th>\n",
              "      <th>yr_built</th>\n",
              "      <th>yr_renovated</th>\n",
              "      <th>street</th>\n",
              "      <th>city</th>\n",
              "      <th>statezip</th>\n",
              "      <th>country</th>\n",
              "    </tr>\n",
              "  </thead>\n",
              "  <tbody>\n",
              "    <tr>\n",
              "      <th>0</th>\n",
              "      <td>2014-05-02 00:00:00</td>\n",
              "      <td>313000.0</td>\n",
              "      <td>3.0</td>\n",
              "      <td>1.50</td>\n",
              "      <td>1340</td>\n",
              "      <td>7912</td>\n",
              "      <td>1.5</td>\n",
              "      <td>0</td>\n",
              "      <td>0</td>\n",
              "      <td>3</td>\n",
              "      <td>1340</td>\n",
              "      <td>0</td>\n",
              "      <td>1955</td>\n",
              "      <td>2005</td>\n",
              "      <td>18810 Densmore Ave N</td>\n",
              "      <td>Shoreline</td>\n",
              "      <td>WA 98133</td>\n",
              "      <td>USA</td>\n",
              "    </tr>\n",
              "    <tr>\n",
              "      <th>1</th>\n",
              "      <td>2014-05-02 00:00:00</td>\n",
              "      <td>2384000.0</td>\n",
              "      <td>5.0</td>\n",
              "      <td>2.50</td>\n",
              "      <td>3650</td>\n",
              "      <td>9050</td>\n",
              "      <td>2.0</td>\n",
              "      <td>0</td>\n",
              "      <td>4</td>\n",
              "      <td>5</td>\n",
              "      <td>3370</td>\n",
              "      <td>280</td>\n",
              "      <td>1921</td>\n",
              "      <td>0</td>\n",
              "      <td>709 W Blaine St</td>\n",
              "      <td>Seattle</td>\n",
              "      <td>WA 98119</td>\n",
              "      <td>USA</td>\n",
              "    </tr>\n",
              "    <tr>\n",
              "      <th>2</th>\n",
              "      <td>2014-05-02 00:00:00</td>\n",
              "      <td>342000.0</td>\n",
              "      <td>3.0</td>\n",
              "      <td>2.00</td>\n",
              "      <td>1930</td>\n",
              "      <td>11947</td>\n",
              "      <td>1.0</td>\n",
              "      <td>0</td>\n",
              "      <td>0</td>\n",
              "      <td>4</td>\n",
              "      <td>1930</td>\n",
              "      <td>0</td>\n",
              "      <td>1966</td>\n",
              "      <td>0</td>\n",
              "      <td>26206-26214 143rd Ave SE</td>\n",
              "      <td>Kent</td>\n",
              "      <td>WA 98042</td>\n",
              "      <td>USA</td>\n",
              "    </tr>\n",
              "    <tr>\n",
              "      <th>3</th>\n",
              "      <td>2014-05-02 00:00:00</td>\n",
              "      <td>420000.0</td>\n",
              "      <td>3.0</td>\n",
              "      <td>2.25</td>\n",
              "      <td>2000</td>\n",
              "      <td>8030</td>\n",
              "      <td>1.0</td>\n",
              "      <td>0</td>\n",
              "      <td>0</td>\n",
              "      <td>4</td>\n",
              "      <td>1000</td>\n",
              "      <td>1000</td>\n",
              "      <td>1963</td>\n",
              "      <td>0</td>\n",
              "      <td>857 170th Pl NE</td>\n",
              "      <td>Bellevue</td>\n",
              "      <td>WA 98008</td>\n",
              "      <td>USA</td>\n",
              "    </tr>\n",
              "    <tr>\n",
              "      <th>4</th>\n",
              "      <td>2014-05-02 00:00:00</td>\n",
              "      <td>550000.0</td>\n",
              "      <td>4.0</td>\n",
              "      <td>2.50</td>\n",
              "      <td>1940</td>\n",
              "      <td>10500</td>\n",
              "      <td>1.0</td>\n",
              "      <td>0</td>\n",
              "      <td>0</td>\n",
              "      <td>4</td>\n",
              "      <td>1140</td>\n",
              "      <td>800</td>\n",
              "      <td>1976</td>\n",
              "      <td>1992</td>\n",
              "      <td>9105 170th Ave NE</td>\n",
              "      <td>Redmond</td>\n",
              "      <td>WA 98052</td>\n",
              "      <td>USA</td>\n",
              "    </tr>\n",
              "  </tbody>\n",
              "</table>\n",
              "</div>\n",
              "      <button class=\"colab-df-convert\" onclick=\"convertToInteractive('df-a380d7c7-6db9-452e-b98d-b8b9e8f482c6')\"\n",
              "              title=\"Convert this dataframe to an interactive table.\"\n",
              "              style=\"display:none;\">\n",
              "        \n",
              "  <svg xmlns=\"http://www.w3.org/2000/svg\" height=\"24px\"viewBox=\"0 0 24 24\"\n",
              "       width=\"24px\">\n",
              "    <path d=\"M0 0h24v24H0V0z\" fill=\"none\"/>\n",
              "    <path d=\"M18.56 5.44l.94 2.06.94-2.06 2.06-.94-2.06-.94-.94-2.06-.94 2.06-2.06.94zm-11 1L8.5 8.5l.94-2.06 2.06-.94-2.06-.94L8.5 2.5l-.94 2.06-2.06.94zm10 10l.94 2.06.94-2.06 2.06-.94-2.06-.94-.94-2.06-.94 2.06-2.06.94z\"/><path d=\"M17.41 7.96l-1.37-1.37c-.4-.4-.92-.59-1.43-.59-.52 0-1.04.2-1.43.59L10.3 9.45l-7.72 7.72c-.78.78-.78 2.05 0 2.83L4 21.41c.39.39.9.59 1.41.59.51 0 1.02-.2 1.41-.59l7.78-7.78 2.81-2.81c.8-.78.8-2.07 0-2.86zM5.41 20L4 18.59l7.72-7.72 1.47 1.35L5.41 20z\"/>\n",
              "  </svg>\n",
              "      </button>\n",
              "      \n",
              "  <style>\n",
              "    .colab-df-container {\n",
              "      display:flex;\n",
              "      flex-wrap:wrap;\n",
              "      gap: 12px;\n",
              "    }\n",
              "\n",
              "    .colab-df-convert {\n",
              "      background-color: #E8F0FE;\n",
              "      border: none;\n",
              "      border-radius: 50%;\n",
              "      cursor: pointer;\n",
              "      display: none;\n",
              "      fill: #1967D2;\n",
              "      height: 32px;\n",
              "      padding: 0 0 0 0;\n",
              "      width: 32px;\n",
              "    }\n",
              "\n",
              "    .colab-df-convert:hover {\n",
              "      background-color: #E2EBFA;\n",
              "      box-shadow: 0px 1px 2px rgba(60, 64, 67, 0.3), 0px 1px 3px 1px rgba(60, 64, 67, 0.15);\n",
              "      fill: #174EA6;\n",
              "    }\n",
              "\n",
              "    [theme=dark] .colab-df-convert {\n",
              "      background-color: #3B4455;\n",
              "      fill: #D2E3FC;\n",
              "    }\n",
              "\n",
              "    [theme=dark] .colab-df-convert:hover {\n",
              "      background-color: #434B5C;\n",
              "      box-shadow: 0px 1px 3px 1px rgba(0, 0, 0, 0.15);\n",
              "      filter: drop-shadow(0px 1px 2px rgba(0, 0, 0, 0.3));\n",
              "      fill: #FFFFFF;\n",
              "    }\n",
              "  </style>\n",
              "\n",
              "      <script>\n",
              "        const buttonEl =\n",
              "          document.querySelector('#df-a380d7c7-6db9-452e-b98d-b8b9e8f482c6 button.colab-df-convert');\n",
              "        buttonEl.style.display =\n",
              "          google.colab.kernel.accessAllowed ? 'block' : 'none';\n",
              "\n",
              "        async function convertToInteractive(key) {\n",
              "          const element = document.querySelector('#df-a380d7c7-6db9-452e-b98d-b8b9e8f482c6');\n",
              "          const dataTable =\n",
              "            await google.colab.kernel.invokeFunction('convertToInteractive',\n",
              "                                                     [key], {});\n",
              "          if (!dataTable) return;\n",
              "\n",
              "          const docLinkHtml = 'Like what you see? Visit the ' +\n",
              "            '<a target=\"_blank\" href=https://colab.research.google.com/notebooks/data_table.ipynb>data table notebook</a>'\n",
              "            + ' to learn more about interactive tables.';\n",
              "          element.innerHTML = '';\n",
              "          dataTable['output_type'] = 'display_data';\n",
              "          await google.colab.output.renderOutput(dataTable, element);\n",
              "          const docLink = document.createElement('div');\n",
              "          docLink.innerHTML = docLinkHtml;\n",
              "          element.appendChild(docLink);\n",
              "        }\n",
              "      </script>\n",
              "    </div>\n",
              "  </div>\n",
              "  "
            ]
          },
          "metadata": {},
          "execution_count": 2
        }
      ]
    },
    {
      "cell_type": "code",
      "source": [
        "#Previewing last 5 rows\n",
        "df.tail()"
      ],
      "metadata": {
        "colab": {
          "base_uri": "https://localhost:8080/",
          "height": 206
        },
        "id": "RuqfrYqepcBz",
        "outputId": "b6a05c7e-71a7-49d5-e5f1-f1cbb04ab1df"
      },
      "execution_count": 3,
      "outputs": [
        {
          "output_type": "execute_result",
          "data": {
            "text/plain": [
              "                     date          price  bedrooms  bathrooms  sqft_living  \\\n",
              "4595  2014-07-09 00:00:00  308166.666667       3.0       1.75         1510   \n",
              "4596  2014-07-09 00:00:00  534333.333333       3.0       2.50         1460   \n",
              "4597  2014-07-09 00:00:00  416904.166667       3.0       2.50         3010   \n",
              "4598  2014-07-10 00:00:00  203400.000000       4.0       2.00         2090   \n",
              "4599  2014-07-10 00:00:00  220600.000000       3.0       2.50         1490   \n",
              "\n",
              "      sqft_lot  floors  waterfront  view  condition  sqft_above  \\\n",
              "4595      6360     1.0           0     0          4        1510   \n",
              "4596      7573     2.0           0     0          3        1460   \n",
              "4597      7014     2.0           0     0          3        3010   \n",
              "4598      6630     1.0           0     0          3        1070   \n",
              "4599      8102     2.0           0     0          4        1490   \n",
              "\n",
              "      sqft_basement  yr_built  yr_renovated             street       city  \\\n",
              "4595              0      1954          1979     501 N 143rd St    Seattle   \n",
              "4596              0      1983          2009   14855 SE 10th Pl   Bellevue   \n",
              "4597              0      2009             0   759 Ilwaco Pl NE     Renton   \n",
              "4598           1020      1974             0  5148 S Creston St    Seattle   \n",
              "4599              0      1990             0  18717 SE 258th St  Covington   \n",
              "\n",
              "      statezip country  \n",
              "4595  WA 98133     USA  \n",
              "4596  WA 98007     USA  \n",
              "4597  WA 98059     USA  \n",
              "4598  WA 98178     USA  \n",
              "4599  WA 98042     USA  "
            ],
            "text/html": [
              "\n",
              "  <div id=\"df-2f193365-6801-4f6c-9801-b6f4935448cb\">\n",
              "    <div class=\"colab-df-container\">\n",
              "      <div>\n",
              "<style scoped>\n",
              "    .dataframe tbody tr th:only-of-type {\n",
              "        vertical-align: middle;\n",
              "    }\n",
              "\n",
              "    .dataframe tbody tr th {\n",
              "        vertical-align: top;\n",
              "    }\n",
              "\n",
              "    .dataframe thead th {\n",
              "        text-align: right;\n",
              "    }\n",
              "</style>\n",
              "<table border=\"1\" class=\"dataframe\">\n",
              "  <thead>\n",
              "    <tr style=\"text-align: right;\">\n",
              "      <th></th>\n",
              "      <th>date</th>\n",
              "      <th>price</th>\n",
              "      <th>bedrooms</th>\n",
              "      <th>bathrooms</th>\n",
              "      <th>sqft_living</th>\n",
              "      <th>sqft_lot</th>\n",
              "      <th>floors</th>\n",
              "      <th>waterfront</th>\n",
              "      <th>view</th>\n",
              "      <th>condition</th>\n",
              "      <th>sqft_above</th>\n",
              "      <th>sqft_basement</th>\n",
              "      <th>yr_built</th>\n",
              "      <th>yr_renovated</th>\n",
              "      <th>street</th>\n",
              "      <th>city</th>\n",
              "      <th>statezip</th>\n",
              "      <th>country</th>\n",
              "    </tr>\n",
              "  </thead>\n",
              "  <tbody>\n",
              "    <tr>\n",
              "      <th>4595</th>\n",
              "      <td>2014-07-09 00:00:00</td>\n",
              "      <td>308166.666667</td>\n",
              "      <td>3.0</td>\n",
              "      <td>1.75</td>\n",
              "      <td>1510</td>\n",
              "      <td>6360</td>\n",
              "      <td>1.0</td>\n",
              "      <td>0</td>\n",
              "      <td>0</td>\n",
              "      <td>4</td>\n",
              "      <td>1510</td>\n",
              "      <td>0</td>\n",
              "      <td>1954</td>\n",
              "      <td>1979</td>\n",
              "      <td>501 N 143rd St</td>\n",
              "      <td>Seattle</td>\n",
              "      <td>WA 98133</td>\n",
              "      <td>USA</td>\n",
              "    </tr>\n",
              "    <tr>\n",
              "      <th>4596</th>\n",
              "      <td>2014-07-09 00:00:00</td>\n",
              "      <td>534333.333333</td>\n",
              "      <td>3.0</td>\n",
              "      <td>2.50</td>\n",
              "      <td>1460</td>\n",
              "      <td>7573</td>\n",
              "      <td>2.0</td>\n",
              "      <td>0</td>\n",
              "      <td>0</td>\n",
              "      <td>3</td>\n",
              "      <td>1460</td>\n",
              "      <td>0</td>\n",
              "      <td>1983</td>\n",
              "      <td>2009</td>\n",
              "      <td>14855 SE 10th Pl</td>\n",
              "      <td>Bellevue</td>\n",
              "      <td>WA 98007</td>\n",
              "      <td>USA</td>\n",
              "    </tr>\n",
              "    <tr>\n",
              "      <th>4597</th>\n",
              "      <td>2014-07-09 00:00:00</td>\n",
              "      <td>416904.166667</td>\n",
              "      <td>3.0</td>\n",
              "      <td>2.50</td>\n",
              "      <td>3010</td>\n",
              "      <td>7014</td>\n",
              "      <td>2.0</td>\n",
              "      <td>0</td>\n",
              "      <td>0</td>\n",
              "      <td>3</td>\n",
              "      <td>3010</td>\n",
              "      <td>0</td>\n",
              "      <td>2009</td>\n",
              "      <td>0</td>\n",
              "      <td>759 Ilwaco Pl NE</td>\n",
              "      <td>Renton</td>\n",
              "      <td>WA 98059</td>\n",
              "      <td>USA</td>\n",
              "    </tr>\n",
              "    <tr>\n",
              "      <th>4598</th>\n",
              "      <td>2014-07-10 00:00:00</td>\n",
              "      <td>203400.000000</td>\n",
              "      <td>4.0</td>\n",
              "      <td>2.00</td>\n",
              "      <td>2090</td>\n",
              "      <td>6630</td>\n",
              "      <td>1.0</td>\n",
              "      <td>0</td>\n",
              "      <td>0</td>\n",
              "      <td>3</td>\n",
              "      <td>1070</td>\n",
              "      <td>1020</td>\n",
              "      <td>1974</td>\n",
              "      <td>0</td>\n",
              "      <td>5148 S Creston St</td>\n",
              "      <td>Seattle</td>\n",
              "      <td>WA 98178</td>\n",
              "      <td>USA</td>\n",
              "    </tr>\n",
              "    <tr>\n",
              "      <th>4599</th>\n",
              "      <td>2014-07-10 00:00:00</td>\n",
              "      <td>220600.000000</td>\n",
              "      <td>3.0</td>\n",
              "      <td>2.50</td>\n",
              "      <td>1490</td>\n",
              "      <td>8102</td>\n",
              "      <td>2.0</td>\n",
              "      <td>0</td>\n",
              "      <td>0</td>\n",
              "      <td>4</td>\n",
              "      <td>1490</td>\n",
              "      <td>0</td>\n",
              "      <td>1990</td>\n",
              "      <td>0</td>\n",
              "      <td>18717 SE 258th St</td>\n",
              "      <td>Covington</td>\n",
              "      <td>WA 98042</td>\n",
              "      <td>USA</td>\n",
              "    </tr>\n",
              "  </tbody>\n",
              "</table>\n",
              "</div>\n",
              "      <button class=\"colab-df-convert\" onclick=\"convertToInteractive('df-2f193365-6801-4f6c-9801-b6f4935448cb')\"\n",
              "              title=\"Convert this dataframe to an interactive table.\"\n",
              "              style=\"display:none;\">\n",
              "        \n",
              "  <svg xmlns=\"http://www.w3.org/2000/svg\" height=\"24px\"viewBox=\"0 0 24 24\"\n",
              "       width=\"24px\">\n",
              "    <path d=\"M0 0h24v24H0V0z\" fill=\"none\"/>\n",
              "    <path d=\"M18.56 5.44l.94 2.06.94-2.06 2.06-.94-2.06-.94-.94-2.06-.94 2.06-2.06.94zm-11 1L8.5 8.5l.94-2.06 2.06-.94-2.06-.94L8.5 2.5l-.94 2.06-2.06.94zm10 10l.94 2.06.94-2.06 2.06-.94-2.06-.94-.94-2.06-.94 2.06-2.06.94z\"/><path d=\"M17.41 7.96l-1.37-1.37c-.4-.4-.92-.59-1.43-.59-.52 0-1.04.2-1.43.59L10.3 9.45l-7.72 7.72c-.78.78-.78 2.05 0 2.83L4 21.41c.39.39.9.59 1.41.59.51 0 1.02-.2 1.41-.59l7.78-7.78 2.81-2.81c.8-.78.8-2.07 0-2.86zM5.41 20L4 18.59l7.72-7.72 1.47 1.35L5.41 20z\"/>\n",
              "  </svg>\n",
              "      </button>\n",
              "      \n",
              "  <style>\n",
              "    .colab-df-container {\n",
              "      display:flex;\n",
              "      flex-wrap:wrap;\n",
              "      gap: 12px;\n",
              "    }\n",
              "\n",
              "    .colab-df-convert {\n",
              "      background-color: #E8F0FE;\n",
              "      border: none;\n",
              "      border-radius: 50%;\n",
              "      cursor: pointer;\n",
              "      display: none;\n",
              "      fill: #1967D2;\n",
              "      height: 32px;\n",
              "      padding: 0 0 0 0;\n",
              "      width: 32px;\n",
              "    }\n",
              "\n",
              "    .colab-df-convert:hover {\n",
              "      background-color: #E2EBFA;\n",
              "      box-shadow: 0px 1px 2px rgba(60, 64, 67, 0.3), 0px 1px 3px 1px rgba(60, 64, 67, 0.15);\n",
              "      fill: #174EA6;\n",
              "    }\n",
              "\n",
              "    [theme=dark] .colab-df-convert {\n",
              "      background-color: #3B4455;\n",
              "      fill: #D2E3FC;\n",
              "    }\n",
              "\n",
              "    [theme=dark] .colab-df-convert:hover {\n",
              "      background-color: #434B5C;\n",
              "      box-shadow: 0px 1px 3px 1px rgba(0, 0, 0, 0.15);\n",
              "      filter: drop-shadow(0px 1px 2px rgba(0, 0, 0, 0.3));\n",
              "      fill: #FFFFFF;\n",
              "    }\n",
              "  </style>\n",
              "\n",
              "      <script>\n",
              "        const buttonEl =\n",
              "          document.querySelector('#df-2f193365-6801-4f6c-9801-b6f4935448cb button.colab-df-convert');\n",
              "        buttonEl.style.display =\n",
              "          google.colab.kernel.accessAllowed ? 'block' : 'none';\n",
              "\n",
              "        async function convertToInteractive(key) {\n",
              "          const element = document.querySelector('#df-2f193365-6801-4f6c-9801-b6f4935448cb');\n",
              "          const dataTable =\n",
              "            await google.colab.kernel.invokeFunction('convertToInteractive',\n",
              "                                                     [key], {});\n",
              "          if (!dataTable) return;\n",
              "\n",
              "          const docLinkHtml = 'Like what you see? Visit the ' +\n",
              "            '<a target=\"_blank\" href=https://colab.research.google.com/notebooks/data_table.ipynb>data table notebook</a>'\n",
              "            + ' to learn more about interactive tables.';\n",
              "          element.innerHTML = '';\n",
              "          dataTable['output_type'] = 'display_data';\n",
              "          await google.colab.output.renderOutput(dataTable, element);\n",
              "          const docLink = document.createElement('div');\n",
              "          docLink.innerHTML = docLinkHtml;\n",
              "          element.appendChild(docLink);\n",
              "        }\n",
              "      </script>\n",
              "    </div>\n",
              "  </div>\n",
              "  "
            ]
          },
          "metadata": {},
          "execution_count": 3
        }
      ]
    },
    {
      "cell_type": "code",
      "source": [
        "#Shape of the data set\n",
        "print(df.shape)"
      ],
      "metadata": {
        "colab": {
          "base_uri": "https://localhost:8080/"
        },
        "id": "4FXbok7rpb6C",
        "outputId": "c39aa2dd-8e47-4839-b821-84adf3439051"
      },
      "execution_count": 4,
      "outputs": [
        {
          "output_type": "stream",
          "name": "stdout",
          "text": [
            "(4600, 18)\n"
          ]
        }
      ]
    },
    {
      "cell_type": "markdown",
      "source": [
        "We have 18 columns for and 4600 rows\n"
      ],
      "metadata": {
        "id": "_NHOopaBs2Bf"
      }
    },
    {
      "cell_type": "markdown",
      "source": [
        "### **3. Data preparation and data cleaning**"
      ],
      "metadata": {
        "id": "1I55VIZwtgmW"
      }
    },
    {
      "cell_type": "code",
      "source": [
        "#checking for nulls using visualization\n",
        "df.isna().mean().round(4).sort_values(ascending = False)[:8].plot(kind = 'bar', figsize = (8, 6), color = 'blue')\n",
        "plt.title('Percentage of missing values')\n",
        "plt.ylabel('Missing values')\n",
        "plt.xlabel('Column')\n",
        "plt.show()"
      ],
      "metadata": {
        "colab": {
          "base_uri": "https://localhost:8080/",
          "height": 468
        },
        "id": "rJDc2KZBpbzI",
        "outputId": "90f5ab00-262a-4d6e-bc2e-ff93ec9446a9"
      },
      "execution_count": 5,
      "outputs": [
        {
          "output_type": "display_data",
          "data": {
            "text/plain": [
              "<Figure size 576x432 with 1 Axes>"
            ],
            "image/png": "[encoded data removed]"
          },
          "metadata": {
            "needs_background": "light"
          }
        }
      ]
    },
    {
      "cell_type": "markdown",
      "source": [
        "We have no nulls"
      ],
      "metadata": {
        "id": "KQmxw54GuLwF"
      }
    },
    {
      "cell_type": "code",
      "source": [
        "#checking for duplicates\n",
        "df.duplicated().sum()"
      ],
      "metadata": {
        "colab": {
          "base_uri": "https://localhost:8080/"
        },
        "id": "t4AKXr9puYVa",
        "outputId": "eddd53fe-7764-4aa0-c65c-8f5bfe2b2086"
      },
      "execution_count": 6,
      "outputs": [
        {
          "output_type": "execute_result",
          "data": {
            "text/plain": [
              "0"
            ]
          },
          "metadata": {},
          "execution_count": 6
        }
      ]
    },
    {
      "cell_type": "code",
      "source": [
        "df.info()"
      ],
      "metadata": {
        "colab": {
          "base_uri": "https://localhost:8080/"
        },
        "id": "kJuTZNYQxQhV",
        "outputId": "9d543dd1-d6c6-4e37-f92b-34a204228312"
      },
      "execution_count": 7,
      "outputs": [
        {
          "output_type": "stream",
          "name": "stdout",
          "text": [
            "<class 'pandas.core.frame.DataFrame'>\n",
            "RangeIndex: 4600 entries, 0 to 4599\n",
            "Data columns (total 18 columns):\n",
            " #   Column         Non-Null Count  Dtype  \n",
            "---  ------         --------------  -----  \n",
            " 0   date           4600 non-null   object \n",
            " 1   price          4600 non-null   float64\n",
            " 2   bedrooms       4600 non-null   float64\n",
            " 3   bathrooms      4600 non-null   float64\n",
            " 4   sqft_living    4600 non-null   int64  \n",
            " 5   sqft_lot       4600 non-null   int64  \n",
            " 6   floors         4600 non-null   float64\n",
            " 7   waterfront     4600 non-null   int64  \n",
            " 8   view           4600 non-null   int64  \n",
            " 9   condition      4600 non-null   int64  \n",
            " 10  sqft_above     4600 non-null   int64  \n",
            " 11  sqft_basement  4600 non-null   int64  \n",
            " 12  yr_built       4600 non-null   int64  \n",
            " 13  yr_renovated   4600 non-null   int64  \n",
            " 14  street         4600 non-null   object \n",
            " 15  city           4600 non-null   object \n",
            " 16  statezip       4600 non-null   object \n",
            " 17  country        4600 non-null   object \n",
            "dtypes: float64(4), int64(9), object(5)\n",
            "memory usage: 647.0+ KB\n"
          ]
        }
      ]
    },
    {
      "cell_type": "code",
      "source": [
        "df.columns"
      ],
      "metadata": {
        "colab": {
          "base_uri": "https://localhost:8080/"
        },
        "id": "PufHauqnf58O",
        "outputId": "0395f1d8-6065-4d99-f3b7-6c6df106a7bb"
      },
      "execution_count": 8,
      "outputs": [
        {
          "output_type": "execute_result",
          "data": {
            "text/plain": [
              "Index(['date', 'price', 'bedrooms', 'bathrooms', 'sqft_living', 'sqft_lot',\n",
              "       'floors', 'waterfront', 'view', 'condition', 'sqft_above',\n",
              "       'sqft_basement', 'yr_built', 'yr_renovated', 'street', 'city',\n",
              "       'statezip', 'country'],\n",
              "      dtype='object')"
            ]
          },
          "metadata": {},
          "execution_count": 8
        }
      ]
    },
    {
      "cell_type": "code",
      "source": [
        "#separating variables for ease of analysis to those that can\n",
        "#be considered continuous and categorical  \n",
        "cat = ['street', 'city', 'statezip', 'country']\n",
        "contin = ['price', 'bedrooms', 'bathrooms', 'sqft_living', 'sqft_lot',\n",
        "       'floors', 'waterfront', 'view', 'condition', 'sqft_above',\n",
        "       'sqft_basement', 'yr_built', 'yr_renovated']"
      ],
      "metadata": {
        "id": "spUmOyu2f4wU"
      },
      "execution_count": 9,
      "outputs": []
    },
    {
      "cell_type": "code",
      "source": [
        "# Checking for outliers in continuous data\n",
        "\n",
        "fig,axes = plt.subplots(nrows=3, ncols=3,figsize=(15,8))\n",
        "\n",
        "\n",
        "#plotting boxplots\n",
        "for i, ax in enumerate(axes.ravel()):\n",
        "  df.boxplot(contin[i], grid=False, ax=ax)\n",
        "  ax.set_title(f\"{(contin[i])}\")\n",
        "  ax.set_ylabel(contin[i])\n",
        "\n",
        "\n",
        "fig.tight_layout()\n",
        "plt.subplots_adjust(top=1.5)\n",
        "plt.show()"
      ],
      "metadata": {
        "colab": {
          "base_uri": "https://localhost:8080/",
          "height": 900
        },
        "id": "UgC9pbhgfc1j",
        "outputId": "b99a9fa3-e29c-4fe3-95c0-fef4e0d96f3c"
      },
      "execution_count": 10,
      "outputs": [
        {
          "output_type": "display_data",
          "data": {
            "text/plain": [
              "<Figure size 1080x576 with 9 Axes>"
            ],
            "image/png": "[encoded data removed]"
          },
          "metadata": {
            "needs_background": "light"
          }
        }
      ]
    },
    {
      "cell_type": "markdown",
      "source": [
        "We have outliears in some columns but will not drop those columns since most real data has or always has outliears. It's also a clear indication of what happening at the ground.\n"
      ],
      "metadata": {
        "id": "Ql8_u0mogmal"
      }
    },
    {
      "cell_type": "code",
      "source": [
        "#checking for anomalies\n",
        "\n",
        "#None of the values in the continuous columns should be negative\n",
        "for col in contin:\n",
        "  print(len(df[df[col] < 0]))\n",
        "#none had values < 0 "
      ],
      "metadata": {
        "colab": {
          "base_uri": "https://localhost:8080/"
        },
        "id": "Bm59x_MGg-fR",
        "outputId": "04356afe-9658-4b38-c0a2-caf705442765"
      },
      "execution_count": 11,
      "outputs": [
        {
          "output_type": "stream",
          "name": "stdout",
          "text": [
            "0\n",
            "0\n",
            "0\n",
            "0\n",
            "0\n",
            "0\n",
            "0\n",
            "0\n",
            "0\n",
            "0\n",
            "0\n",
            "0\n",
            "0\n"
          ]
        }
      ]
    },
    {
      "cell_type": "markdown",
      "source": [
        "We have no anomalies in our data set."
      ],
      "metadata": {
        "id": "21kGAm7fhAeJ"
      }
    },
    {
      "cell_type": "code",
      "source": [
        "#datatype conversion\n",
        "\n",
        "#date column to datetime\n",
        "\n",
        "df['date'] = pd.to_datetime(df['date'])"
      ],
      "metadata": {
        "id": "Z8s-jj6zhOTD"
      },
      "execution_count": 12,
      "outputs": []
    },
    {
      "cell_type": "code",
      "source": [
        "df.info()"
      ],
      "metadata": {
        "colab": {
          "base_uri": "https://localhost:8080/"
        },
        "id": "f-6oHN4ihOLb",
        "outputId": "bd641dd2-8d49-4846-f08c-924f07f5dd2e"
      },
      "execution_count": 13,
      "outputs": [
        {
          "output_type": "stream",
          "name": "stdout",
          "text": [
            "<class 'pandas.core.frame.DataFrame'>\n",
            "RangeIndex: 4600 entries, 0 to 4599\n",
            "Data columns (total 18 columns):\n",
            " #   Column         Non-Null Count  Dtype         \n",
            "---  ------         --------------  -----         \n",
            " 0   date           4600 non-null   datetime64[ns]\n",
            " 1   price          4600 non-null   float64       \n",
            " 2   bedrooms       4600 non-null   float64       \n",
            " 3   bathrooms      4600 non-null   float64       \n",
            " 4   sqft_living    4600 non-null   int64         \n",
            " 5   sqft_lot       4600 non-null   int64         \n",
            " 6   floors         4600 non-null   float64       \n",
            " 7   waterfront     4600 non-null   int64         \n",
            " 8   view           4600 non-null   int64         \n",
            " 9   condition      4600 non-null   int64         \n",
            " 10  sqft_above     4600 non-null   int64         \n",
            " 11  sqft_basement  4600 non-null   int64         \n",
            " 12  yr_built       4600 non-null   int64         \n",
            " 13  yr_renovated   4600 non-null   int64         \n",
            " 14  street         4600 non-null   object        \n",
            " 15  city           4600 non-null   object        \n",
            " 16  statezip       4600 non-null   object        \n",
            " 17  country        4600 non-null   object        \n",
            "dtypes: datetime64[ns](1), float64(4), int64(9), object(4)\n",
            "memory usage: 647.0+ KB\n"
          ]
        }
      ]
    },
    {
      "cell_type": "markdown",
      "source": [
        "### **4. Exploratory data analysis**\n",
        "\n",
        "Here will explore the train dataset and come up with some  visualization"
      ],
      "metadata": {
        "id": "4IRYuOnayIHk"
      }
    },
    {
      "cell_type": "code",
      "source": [
        "df.head()"
      ],
      "metadata": {
        "colab": {
          "base_uri": "https://localhost:8080/",
          "height": 206
        },
        "id": "L8iRF_CruYD5",
        "outputId": "1bd4c4ac-74cb-4a84-f153-a0767f5d865d"
      },
      "execution_count": 14,
      "outputs": [
        {
          "output_type": "execute_result",
          "data": {
            "text/plain": [
              "        date      price  bedrooms  bathrooms  sqft_living  sqft_lot  floors  \\\n",
              "0 2014-05-02   313000.0       3.0       1.50         1340      7912     1.5   \n",
              "1 2014-05-02  2384000.0       5.0       2.50         3650      9050     2.0   \n",
              "2 2014-05-02   342000.0       3.0       2.00         1930     11947     1.0   \n",
              "3 2014-05-02   420000.0       3.0       2.25         2000      8030     1.0   \n",
              "4 2014-05-02   550000.0       4.0       2.50         1940     10500     1.0   \n",
              "\n",
              "   waterfront  view  condition  sqft_above  sqft_basement  yr_built  \\\n",
              "0           0     0          3        1340              0      1955   \n",
              "1           0     4          5        3370            280      1921   \n",
              "2           0     0          4        1930              0      1966   \n",
              "3           0     0          4        1000           1000      1963   \n",
              "4           0     0          4        1140            800      1976   \n",
              "\n",
              "   yr_renovated                    street       city  statezip country  \n",
              "0          2005      18810 Densmore Ave N  Shoreline  WA 98133     USA  \n",
              "1             0           709 W Blaine St    Seattle  WA 98119     USA  \n",
              "2             0  26206-26214 143rd Ave SE       Kent  WA 98042     USA  \n",
              "3             0           857 170th Pl NE   Bellevue  WA 98008     USA  \n",
              "4          1992         9105 170th Ave NE    Redmond  WA 98052     USA  "
            ],
            "text/html": [
              "\n",
              "  <div id=\"df-a279fe2f-b190-4d58-9ec0-dc019cae7d80\">\n",
              "    <div class=\"colab-df-container\">\n",
              "      <div>\n",
              "<style scoped>\n",
              "    .dataframe tbody tr th:only-of-type {\n",
              "        vertical-align: middle;\n",
              "    }\n",
              "\n",
              "    .dataframe tbody tr th {\n",
              "        vertical-align: top;\n",
              "    }\n",
              "\n",
              "    .dataframe thead th {\n",
              "        text-align: right;\n",
              "    }\n",
              "</style>\n",
              "<table border=\"1\" class=\"dataframe\">\n",
              "  <thead>\n",
              "    <tr style=\"text-align: right;\">\n",
              "      <th></th>\n",
              "      <th>date</th>\n",
              "      <th>price</th>\n",
              "      <th>bedrooms</th>\n",
              "      <th>bathrooms</th>\n",
              "      <th>sqft_living</th>\n",
              "      <th>sqft_lot</th>\n",
              "      <th>floors</th>\n",
              "      <th>waterfront</th>\n",
              "      <th>view</th>\n",
              "      <th>condition</th>\n",
              "      <th>sqft_above</th>\n",
              "      <th>sqft_basement</th>\n",
              "      <th>yr_built</th>\n",
              "      <th>yr_renovated</th>\n",
              "      <th>street</th>\n",
              "      <th>city</th>\n",
              "      <th>statezip</th>\n",
              "      <th>country</th>\n",
              "    </tr>\n",
              "  </thead>\n",
              "  <tbody>\n",
              "    <tr>\n",
              "      <th>0</th>\n",
              "      <td>2014-05-02</td>\n",
              "      <td>313000.0</td>\n",
              "      <td>3.0</td>\n",
              "      <td>1.50</td>\n",
              "      <td>1340</td>\n",
              "      <td>7912</td>\n",
              "      <td>1.5</td>\n",
              "      <td>0</td>\n",
              "      <td>0</td>\n",
              "      <td>3</td>\n",
              "      <td>1340</td>\n",
              "      <td>0</td>\n",
              "      <td>1955</td>\n",
              "      <td>2005</td>\n",
              "      <td>18810 Densmore Ave N</td>\n",
              "      <td>Shoreline</td>\n",
              "      <td>WA 98133</td>\n",
              "      <td>USA</td>\n",
              "    </tr>\n",
              "    <tr>\n",
              "      <th>1</th>\n",
              "      <td>2014-05-02</td>\n",
              "      <td>2384000.0</td>\n",
              "      <td>5.0</td>\n",
              "      <td>2.50</td>\n",
              "      <td>3650</td>\n",
              "      <td>9050</td>\n",
              "      <td>2.0</td>\n",
              "      <td>0</td>\n",
              "      <td>4</td>\n",
              "      <td>5</td>\n",
              "      <td>3370</td>\n",
              "      <td>280</td>\n",
              "      <td>1921</td>\n",
              "      <td>0</td>\n",
              "      <td>709 W Blaine St</td>\n",
              "      <td>Seattle</td>\n",
              "      <td>WA 98119</td>\n",
              "      <td>USA</td>\n",
              "    </tr>\n",
              "    <tr>\n",
              "      <th>2</th>\n",
              "      <td>2014-05-02</td>\n",
              "      <td>342000.0</td>\n",
              "      <td>3.0</td>\n",
              "      <td>2.00</td>\n",
              "      <td>1930</td>\n",
              "      <td>11947</td>\n",
              "      <td>1.0</td>\n",
              "      <td>0</td>\n",
              "      <td>0</td>\n",
              "      <td>4</td>\n",
              "      <td>1930</td>\n",
              "      <td>0</td>\n",
              "      <td>1966</td>\n",
              "      <td>0</td>\n",
              "      <td>26206-26214 143rd Ave SE</td>\n",
              "      <td>Kent</td>\n",
              "      <td>WA 98042</td>\n",
              "      <td>USA</td>\n",
              "    </tr>\n",
              "    <tr>\n",
              "      <th>3</th>\n",
              "      <td>2014-05-02</td>\n",
              "      <td>420000.0</td>\n",
              "      <td>3.0</td>\n",
              "      <td>2.25</td>\n",
              "      <td>2000</td>\n",
              "      <td>8030</td>\n",
              "      <td>1.0</td>\n",
              "      <td>0</td>\n",
              "      <td>0</td>\n",
              "      <td>4</td>\n",
              "      <td>1000</td>\n",
              "      <td>1000</td>\n",
              "      <td>1963</td>\n",
              "      <td>0</td>\n",
              "      <td>857 170th Pl NE</td>\n",
              "      <td>Bellevue</td>\n",
              "      <td>WA 98008</td>\n",
              "      <td>USA</td>\n",
              "    </tr>\n",
              "    <tr>\n",
              "      <th>4</th>\n",
              "      <td>2014-05-02</td>\n",
              "      <td>550000.0</td>\n",
              "      <td>4.0</td>\n",
              "      <td>2.50</td>\n",
              "      <td>1940</td>\n",
              "      <td>10500</td>\n",
              "      <td>1.0</td>\n",
              "      <td>0</td>\n",
              "      <td>0</td>\n",
              "      <td>4</td>\n",
              "      <td>1140</td>\n",
              "      <td>800</td>\n",
              "      <td>1976</td>\n",
              "      <td>1992</td>\n",
              "      <td>9105 170th Ave NE</td>\n",
              "      <td>Redmond</td>\n",
              "      <td>WA 98052</td>\n",
              "      <td>USA</td>\n",
              "    </tr>\n",
              "  </tbody>\n",
              "</table>\n",
              "</div>\n",
              "      <button class=\"colab-df-convert\" onclick=\"convertToInteractive('df-a279fe2f-b190-4d58-9ec0-dc019cae7d80')\"\n",
              "              title=\"Convert this dataframe to an interactive table.\"\n",
              "              style=\"display:none;\">\n",
              "        \n",
              "  <svg xmlns=\"http://www.w3.org/2000/svg\" height=\"24px\"viewBox=\"0 0 24 24\"\n",
              "       width=\"24px\">\n",
              "    <path d=\"M0 0h24v24H0V0z\" fill=\"none\"/>\n",
              "    <path d=\"M18.56 5.44l.94 2.06.94-2.06 2.06-.94-2.06-.94-.94-2.06-.94 2.06-2.06.94zm-11 1L8.5 8.5l.94-2.06 2.06-.94-2.06-.94L8.5 2.5l-.94 2.06-2.06.94zm10 10l.94 2.06.94-2.06 2.06-.94-2.06-.94-.94-2.06-.94 2.06-2.06.94z\"/><path d=\"M17.41 7.96l-1.37-1.37c-.4-.4-.92-.59-1.43-.59-.52 0-1.04.2-1.43.59L10.3 9.45l-7.72 7.72c-.78.78-.78 2.05 0 2.83L4 21.41c.39.39.9.59 1.41.59.51 0 1.02-.2 1.41-.59l7.78-7.78 2.81-2.81c.8-.78.8-2.07 0-2.86zM5.41 20L4 18.59l7.72-7.72 1.47 1.35L5.41 20z\"/>\n",
              "  </svg>\n",
              "      </button>\n",
              "      \n",
              "  <style>\n",
              "    .colab-df-container {\n",
              "      display:flex;\n",
              "      flex-wrap:wrap;\n",
              "      gap: 12px;\n",
              "    }\n",
              "\n",
              "    .colab-df-convert {\n",
              "      background-color: #E8F0FE;\n",
              "      border: none;\n",
              "      border-radius: 50%;\n",
              "      cursor: pointer;\n",
              "      display: none;\n",
              "      fill: #1967D2;\n",
              "      height: 32px;\n",
              "      padding: 0 0 0 0;\n",
              "      width: 32px;\n",
              "    }\n",
              "\n",
              "    .colab-df-convert:hover {\n",
              "      background-color: #E2EBFA;\n",
              "      box-shadow: 0px 1px 2px rgba(60, 64, 67, 0.3), 0px 1px 3px 1px rgba(60, 64, 67, 0.15);\n",
              "      fill: #174EA6;\n",
              "    }\n",
              "\n",
              "    [theme=dark] .colab-df-convert {\n",
              "      background-color: #3B4455;\n",
              "      fill: #D2E3FC;\n",
              "    }\n",
              "\n",
              "    [theme=dark] .colab-df-convert:hover {\n",
              "      background-color: #434B5C;\n",
              "      box-shadow: 0px 1px 3px 1px rgba(0, 0, 0, 0.15);\n",
              "      filter: drop-shadow(0px 1px 2px rgba(0, 0, 0, 0.3));\n",
              "      fill: #FFFFFF;\n",
              "    }\n",
              "  </style>\n",
              "\n",
              "      <script>\n",
              "        const buttonEl =\n",
              "          document.querySelector('#df-a279fe2f-b190-4d58-9ec0-dc019cae7d80 button.colab-df-convert');\n",
              "        buttonEl.style.display =\n",
              "          google.colab.kernel.accessAllowed ? 'block' : 'none';\n",
              "\n",
              "        async function convertToInteractive(key) {\n",
              "          const element = document.querySelector('#df-a279fe2f-b190-4d58-9ec0-dc019cae7d80');\n",
              "          const dataTable =\n",
              "            await google.colab.kernel.invokeFunction('convertToInteractive',\n",
              "                                                     [key], {});\n",
              "          if (!dataTable) return;\n",
              "\n",
              "          const docLinkHtml = 'Like what you see? Visit the ' +\n",
              "            '<a target=\"_blank\" href=https://colab.research.google.com/notebooks/data_table.ipynb>data table notebook</a>'\n",
              "            + ' to learn more about interactive tables.';\n",
              "          element.innerHTML = '';\n",
              "          dataTable['output_type'] = 'display_data';\n",
              "          await google.colab.output.renderOutput(dataTable, element);\n",
              "          const docLink = document.createElement('div');\n",
              "          docLink.innerHTML = docLinkHtml;\n",
              "          element.appendChild(docLink);\n",
              "        }\n",
              "      </script>\n",
              "    </div>\n",
              "  </div>\n",
              "  "
            ]
          },
          "metadata": {},
          "execution_count": 14
        }
      ]
    },
    {
      "cell_type": "code",
      "source": [
        "#statistical summaries of various numerical variables\n",
        "df[contin].describe().transpose()"
      ],
      "metadata": {
        "colab": {
          "base_uri": "https://localhost:8080/",
          "height": 457
        },
        "id": "Nn7T_YgKuYAW",
        "outputId": "6666a1f9-5823-46ac-9ab3-2774457b92bd"
      },
      "execution_count": 15,
      "outputs": [
        {
          "output_type": "execute_result",
          "data": {
            "text/plain": [
              "                count           mean            std     min        25%  \\\n",
              "price          4600.0  551962.988473  563834.702547     0.0  322875.00   \n",
              "bedrooms       4600.0       3.400870       0.908848     0.0       3.00   \n",
              "bathrooms      4600.0       2.160815       0.783781     0.0       1.75   \n",
              "sqft_living    4600.0    2139.346957     963.206916   370.0    1460.00   \n",
              "sqft_lot       4600.0   14852.516087   35884.436145   638.0    5000.75   \n",
              "floors         4600.0       1.512065       0.538288     1.0       1.00   \n",
              "waterfront     4600.0       0.007174       0.084404     0.0       0.00   \n",
              "view           4600.0       0.240652       0.778405     0.0       0.00   \n",
              "condition      4600.0       3.451739       0.677230     1.0       3.00   \n",
              "sqft_above     4600.0    1827.265435     862.168977   370.0    1190.00   \n",
              "sqft_basement  4600.0     312.081522     464.137228     0.0       0.00   \n",
              "yr_built       4600.0    1970.786304      29.731848  1900.0    1951.00   \n",
              "yr_renovated   4600.0     808.608261     979.414536     0.0       0.00   \n",
              "\n",
              "                         50%        75%         max  \n",
              "price          460943.461539  654962.50  26590000.0  \n",
              "bedrooms            3.000000       4.00         9.0  \n",
              "bathrooms           2.250000       2.50         8.0  \n",
              "sqft_living      1980.000000    2620.00     13540.0  \n",
              "sqft_lot         7683.000000   11001.25   1074218.0  \n",
              "floors              1.500000       2.00         3.5  \n",
              "waterfront          0.000000       0.00         1.0  \n",
              "view                0.000000       0.00         4.0  \n",
              "condition           3.000000       4.00         5.0  \n",
              "sqft_above       1590.000000    2300.00      9410.0  \n",
              "sqft_basement       0.000000     610.00      4820.0  \n",
              "yr_built         1976.000000    1997.00      2014.0  \n",
              "yr_renovated        0.000000    1999.00      2014.0  "
            ],
            "text/html": [
              "\n",
              "  <div id=\"df-639e7bbe-8c10-41ea-9710-c54a1d20d504\">\n",
              "    <div class=\"colab-df-container\">\n",
              "      <div>\n",
              "<style scoped>\n",
              "    .dataframe tbody tr th:only-of-type {\n",
              "        vertical-align: middle;\n",
              "    }\n",
              "\n",
              "    .dataframe tbody tr th {\n",
              "        vertical-align: top;\n",
              "    }\n",
              "\n",
              "    .dataframe thead th {\n",
              "        text-align: right;\n",
              "    }\n",
              "</style>\n",
              "<table border=\"1\" class=\"dataframe\">\n",
              "  <thead>\n",
              "    <tr style=\"text-align: right;\">\n",
              "      <th></th>\n",
              "      <th>count</th>\n",
              "      <th>mean</th>\n",
              "      <th>std</th>\n",
              "      <th>min</th>\n",
              "      <th>25%</th>\n",
              "      <th>50%</th>\n",
              "      <th>75%</th>\n",
              "      <th>max</th>\n",
              "    </tr>\n",
              "  </thead>\n",
              "  <tbody>\n",
              "    <tr>\n",
              "      <th>price</th>\n",
              "      <td>4600.0</td>\n",
              "      <td>551962.988473</td>\n",
              "      <td>563834.702547</td>\n",
              "      <td>0.0</td>\n",
              "      <td>322875.00</td>\n",
              "      <td>460943.461539</td>\n",
              "      <td>654962.50</td>\n",
              "      <td>26590000.0</td>\n",
              "    </tr>\n",
              "    <tr>\n",
              "      <th>bedrooms</th>\n",
              "      <td>4600.0</td>\n",
              "      <td>3.400870</td>\n",
              "      <td>0.908848</td>\n",
              "      <td>0.0</td>\n",
              "      <td>3.00</td>\n",
              "      <td>3.000000</td>\n",
              "      <td>4.00</td>\n",
              "      <td>9.0</td>\n",
              "    </tr>\n",
              "    <tr>\n",
              "      <th>bathrooms</th>\n",
              "      <td>4600.0</td>\n",
              "      <td>2.160815</td>\n",
              "      <td>0.783781</td>\n",
              "      <td>0.0</td>\n",
              "      <td>1.75</td>\n",
              "      <td>2.250000</td>\n",
              "      <td>2.50</td>\n",
              "      <td>8.0</td>\n",
              "    </tr>\n",
              "    <tr>\n",
              "      <th>sqft_living</th>\n",
              "      <td>4600.0</td>\n",
              "      <td>2139.346957</td>\n",
              "      <td>963.206916</td>\n",
              "      <td>370.0</td>\n",
              "      <td>1460.00</td>\n",
              "      <td>1980.000000</td>\n",
              "      <td>2620.00</td>\n",
              "      <td>13540.0</td>\n",
              "    </tr>\n",
              "    <tr>\n",
              "      <th>sqft_lot</th>\n",
              "      <td>4600.0</td>\n",
              "      <td>14852.516087</td>\n",
              "      <td>35884.436145</td>\n",
              "      <td>638.0</td>\n",
              "      <td>5000.75</td>\n",
              "      <td>7683.000000</td>\n",
              "      <td>11001.25</td>\n",
              "      <td>1074218.0</td>\n",
              "    </tr>\n",
              "    <tr>\n",
              "      <th>floors</th>\n",
              "      <td>4600.0</td>\n",
              "      <td>1.512065</td>\n",
              "      <td>0.538288</td>\n",
              "      <td>1.0</td>\n",
              "      <td>1.00</td>\n",
              "      <td>1.500000</td>\n",
              "      <td>2.00</td>\n",
              "      <td>3.5</td>\n",
              "    </tr>\n",
              "    <tr>\n",
              "      <th>waterfront</th>\n",
              "      <td>4600.0</td>\n",
              "      <td>0.007174</td>\n",
              "      <td>0.084404</td>\n",
              "      <td>0.0</td>\n",
              "      <td>0.00</td>\n",
              "      <td>0.000000</td>\n",
              "      <td>0.00</td>\n",
              "      <td>1.0</td>\n",
              "    </tr>\n",
              "    <tr>\n",
              "      <th>view</th>\n",
              "      <td>4600.0</td>\n",
              "      <td>0.240652</td>\n",
              "      <td>0.778405</td>\n",
              "      <td>0.0</td>\n",
              "      <td>0.00</td>\n",
              "      <td>0.000000</td>\n",
              "      <td>0.00</td>\n",
              "      <td>4.0</td>\n",
              "    </tr>\n",
              "    <tr>\n",
              "      <th>condition</th>\n",
              "      <td>4600.0</td>\n",
              "      <td>3.451739</td>\n",
              "      <td>0.677230</td>\n",
              "      <td>1.0</td>\n",
              "      <td>3.00</td>\n",
              "      <td>3.000000</td>\n",
              "      <td>4.00</td>\n",
              "      <td>5.0</td>\n",
              "    </tr>\n",
              "    <tr>\n",
              "      <th>sqft_above</th>\n",
              "      <td>4600.0</td>\n",
              "      <td>1827.265435</td>\n",
              "      <td>862.168977</td>\n",
              "      <td>370.0</td>\n",
              "      <td>1190.00</td>\n",
              "      <td>1590.000000</td>\n",
              "      <td>2300.00</td>\n",
              "      <td>9410.0</td>\n",
              "    </tr>\n",
              "    <tr>\n",
              "      <th>sqft_basement</th>\n",
              "      <td>4600.0</td>\n",
              "      <td>312.081522</td>\n",
              "      <td>464.137228</td>\n",
              "      <td>0.0</td>\n",
              "      <td>0.00</td>\n",
              "      <td>0.000000</td>\n",
              "      <td>610.00</td>\n",
              "      <td>4820.0</td>\n",
              "    </tr>\n",
              "    <tr>\n",
              "      <th>yr_built</th>\n",
              "      <td>4600.0</td>\n",
              "      <td>1970.786304</td>\n",
              "      <td>29.731848</td>\n",
              "      <td>1900.0</td>\n",
              "      <td>1951.00</td>\n",
              "      <td>1976.000000</td>\n",
              "      <td>1997.00</td>\n",
              "      <td>2014.0</td>\n",
              "    </tr>\n",
              "    <tr>\n",
              "      <th>yr_renovated</th>\n",
              "      <td>4600.0</td>\n",
              "      <td>808.608261</td>\n",
              "      <td>979.414536</td>\n",
              "      <td>0.0</td>\n",
              "      <td>0.00</td>\n",
              "      <td>0.000000</td>\n",
              "      <td>1999.00</td>\n",
              "      <td>2014.0</td>\n",
              "    </tr>\n",
              "  </tbody>\n",
              "</table>\n",
              "</div>\n",
              "      <button class=\"colab-df-convert\" onclick=\"convertToInteractive('df-639e7bbe-8c10-41ea-9710-c54a1d20d504')\"\n",
              "              title=\"Convert this dataframe to an interactive table.\"\n",
              "              style=\"display:none;\">\n",
              "        \n",
              "  <svg xmlns=\"http://www.w3.org/2000/svg\" height=\"24px\"viewBox=\"0 0 24 24\"\n",
              "       width=\"24px\">\n",
              "    <path d=\"M0 0h24v24H0V0z\" fill=\"none\"/>\n",
              "    <path d=\"M18.56 5.44l.94 2.06.94-2.06 2.06-.94-2.06-.94-.94-2.06-.94 2.06-2.06.94zm-11 1L8.5 8.5l.94-2.06 2.06-.94-2.06-.94L8.5 2.5l-.94 2.06-2.06.94zm10 10l.94 2.06.94-2.06 2.06-.94-2.06-.94-.94-2.06-.94 2.06-2.06.94z\"/><path d=\"M17.41 7.96l-1.37-1.37c-.4-.4-.92-.59-1.43-.59-.52 0-1.04.2-1.43.59L10.3 9.45l-7.72 7.72c-.78.78-.78 2.05 0 2.83L4 21.41c.39.39.9.59 1.41.59.51 0 1.02-.2 1.41-.59l7.78-7.78 2.81-2.81c.8-.78.8-2.07 0-2.86zM5.41 20L4 18.59l7.72-7.72 1.47 1.35L5.41 20z\"/>\n",
              "  </svg>\n",
              "      </button>\n",
              "      \n",
              "  <style>\n",
              "    .colab-df-container {\n",
              "      display:flex;\n",
              "      flex-wrap:wrap;\n",
              "      gap: 12px;\n",
              "    }\n",
              "\n",
              "    .colab-df-convert {\n",
              "      background-color: #E8F0FE;\n",
              "      border: none;\n",
              "      border-radius: 50%;\n",
              "      cursor: pointer;\n",
              "      display: none;\n",
              "      fill: #1967D2;\n",
              "      height: 32px;\n",
              "      padding: 0 0 0 0;\n",
              "      width: 32px;\n",
              "    }\n",
              "\n",
              "    .colab-df-convert:hover {\n",
              "      background-color: #E2EBFA;\n",
              "      box-shadow: 0px 1px 2px rgba(60, 64, 67, 0.3), 0px 1px 3px 1px rgba(60, 64, 67, 0.15);\n",
              "      fill: #174EA6;\n",
              "    }\n",
              "\n",
              "    [theme=dark] .colab-df-convert {\n",
              "      background-color: #3B4455;\n",
              "      fill: #D2E3FC;\n",
              "    }\n",
              "\n",
              "    [theme=dark] .colab-df-convert:hover {\n",
              "      background-color: #434B5C;\n",
              "      box-shadow: 0px 1px 3px 1px rgba(0, 0, 0, 0.15);\n",
              "      filter: drop-shadow(0px 1px 2px rgba(0, 0, 0, 0.3));\n",
              "      fill: #FFFFFF;\n",
              "    }\n",
              "  </style>\n",
              "\n",
              "      <script>\n",
              "        const buttonEl =\n",
              "          document.querySelector('#df-639e7bbe-8c10-41ea-9710-c54a1d20d504 button.colab-df-convert');\n",
              "        buttonEl.style.display =\n",
              "          google.colab.kernel.accessAllowed ? 'block' : 'none';\n",
              "\n",
              "        async function convertToInteractive(key) {\n",
              "          const element = document.querySelector('#df-639e7bbe-8c10-41ea-9710-c54a1d20d504');\n",
              "          const dataTable =\n",
              "            await google.colab.kernel.invokeFunction('convertToInteractive',\n",
              "                                                     [key], {});\n",
              "          if (!dataTable) return;\n",
              "\n",
              "          const docLinkHtml = 'Like what you see? Visit the ' +\n",
              "            '<a target=\"_blank\" href=https://colab.research.google.com/notebooks/data_table.ipynb>data table notebook</a>'\n",
              "            + ' to learn more about interactive tables.';\n",
              "          element.innerHTML = '';\n",
              "          dataTable['output_type'] = 'display_data';\n",
              "          await google.colab.output.renderOutput(dataTable, element);\n",
              "          const docLink = document.createElement('div');\n",
              "          docLink.innerHTML = docLinkHtml;\n",
              "          element.appendChild(docLink);\n",
              "        }\n",
              "      </script>\n",
              "    </div>\n",
              "  </div>\n",
              "  "
            ]
          },
          "metadata": {},
          "execution_count": 15
        }
      ]
    },
    {
      "cell_type": "code",
      "source": [
        "#checking how sale price correlates with other variables using a correlation map\n",
        "#Correlation check\n",
        "fig, ax = plt.subplots(figsize=(20,10))  \n",
        "sns.heatmap(df.corr(), cmap=\"YlGnBu\", annot=True)"
      ],
      "metadata": {
        "colab": {
          "base_uri": "https://localhost:8080/",
          "height": 613
        },
        "id": "PcPx00aryjIC",
        "outputId": "567e69ce-dbf6-49d7-f50f-3a910e32efc0"
      },
      "execution_count": 16,
      "outputs": [
        {
          "output_type": "execute_result",
          "data": {
            "text/plain": [
              "<matplotlib.axes._subplots.AxesSubplot at 0x7f49016b7820>"
            ]
          },
          "metadata": {},
          "execution_count": 16
        },
        {
          "output_type": "display_data",
          "data": {
            "text/plain": [
              "<Figure size 1440x720 with 2 Axes>"
            ],
            "image/png": "[encoded data removed]"
          },
          "metadata": {
            "needs_background": "light"
          }
        }
      ]
    },
    {
      "cell_type": "markdown",
      "source": [
        "From the above heatmap we see prices has a high correlation with:\n",
        "\n",
        "\n",
        "*   sqft_living\n",
        "*   sqft_above\n",
        "\n",
        "Wealso have high correlation between the following variables:\n",
        "\n",
        "\n",
        "1.   sqft_above and sqft_living\n",
        "2.   sqft_living and bedrooms and bathrooms\n",
        "3.   Bedrooms and bathrooms\n",
        "\n",
        "\n",
        "\n",
        "This expected since the more the rooms/bathrooms the more the area the house will occupy.\n",
        "\n",
        "For prices the more the area the higher the price. Also bugalows vs flat vary in prices."
      ],
      "metadata": {
        "id": "VR6xMkAXh8VK"
      }
    },
    {
      "cell_type": "code",
      "source": [
        "#checking most important features to price\n",
        "print(\"Most important features relative to Sale Price\")\n",
        "corr = df.corr()\n",
        "corr.sort_values([\"price\"], ascending = False, inplace = True)\n",
        "print(corr.price)\n"
      ],
      "metadata": {
        "colab": {
          "base_uri": "https://localhost:8080/"
        },
        "id": "cU1HC11RyjCw",
        "outputId": "8642812a-b221-440b-ceb0-9a3963c143c4"
      },
      "execution_count": 17,
      "outputs": [
        {
          "output_type": "stream",
          "name": "stdout",
          "text": [
            "Most important features relative to Sale Price\n",
            "price            1.000000\n",
            "sqft_living      0.430410\n",
            "sqft_above       0.367570\n",
            "bathrooms        0.327110\n",
            "view             0.228504\n",
            "sqft_basement    0.210427\n",
            "bedrooms         0.200336\n",
            "floors           0.151461\n",
            "waterfront       0.135648\n",
            "sqft_lot         0.050451\n",
            "condition        0.034915\n",
            "yr_built         0.021857\n",
            "yr_renovated    -0.028774\n",
            "Name: price, dtype: float64\n"
          ]
        }
      ]
    },
    {
      "cell_type": "code",
      "source": [
        "#we can highlight this correlations graphically as follows\n",
        "corr = df.corr()\n",
        "target_col=corr[['price']].sort_values(by='price', ascending=False)\n",
        "\n",
        "plt.figure(figsize=(8,6))\n",
        "\n",
        "sns.heatmap(target_col,annot=True)\n",
        "plt.title(\"Correlations between predictors and target column\")\n",
        "plt.show()"
      ],
      "metadata": {
        "id": "BplACuqZyi92",
        "colab": {
          "base_uri": "https://localhost:8080/",
          "height": 390
        },
        "outputId": "330d5979-2334-4d43-f3ce-0724cbbe9625"
      },
      "execution_count": 18,
      "outputs": [
        {
          "output_type": "display_data",
          "data": {
            "text/plain": [
              "<Figure size 576x432 with 2 Axes>"
            ],
            "image/png": "[encoded data removed]"
          },
          "metadata": {
            "needs_background": "light"
          }
        }
      ]
    },
    {
      "cell_type": "markdown",
      "source": [
        "# **Modeling**"
      ],
      "metadata": {
        "id": "-NnjzKLOlkr5"
      }
    },
    {
      "cell_type": "markdown",
      "source": [
        "In linear regression, the input data is represented as a set of feature vectors, and the output is a continuous value that we are trying to predict as shown in our casse study. The goal is to find the line of best fit that minimizes the sum of the squared errors between the predicted values and the true values.\n",
        "\n",
        "To perform linear regression, you need to first split your data into a training set and a test set. You can then use the training set to fit a linear regression model, which consists of a set of coefficients that determine the line of best fit. Once the model is trained, you can use it to make predictions on the test set and evaluate the accuracy of the predictions.\n",
        "\n",
        "Will now get our hands dirty on the modelling part."
      ],
      "metadata": {
        "id": "iVTIeKvklw2S"
      }
    },
    {
      "cell_type": "markdown",
      "source": [
        "**First will import the necessay libraries**"
      ],
      "metadata": {
        "id": "PidqF2cml_ww"
      }
    },
    {
      "cell_type": "code",
      "source": [
        "# from sklearn.model_selection import KFold\n",
        "import scipy as sp\n",
        "from sklearn.model_selection import GridSearchCV\n",
        "from sklearn import metrics\n",
        "from sklearn.model_selection import train_test_split\n",
        "from sklearn.linear_model import LinearRegression\n",
        "import statsmodels.formula.api as smf\n",
        "from sklearn.linear_model import Lasso\n",
        "from sklearn.preprocessing import StandardScaler\n",
        "# from sklearn.preprocessing import LabelEncoder\n",
        "from sklearn.metrics import mean_squared_error\n",
        "from sklearn.linear_model import Ridge\n",
        "from sklearn.linear_model import ElasticNet"
      ],
      "metadata": {
        "id": "jDPaektAFkSg"
      },
      "execution_count": 19,
      "outputs": []
    },
    {
      "cell_type": "markdown",
      "source": [
        "### **Preprocessing**"
      ],
      "metadata": {
        "id": "7rWRfXHZmQJy"
      }
    },
    {
      "cell_type": "markdown",
      "source": [
        "Before actual modeling will perform some further house cleaning. \n",
        "From our feature of importance we have seen the important features for price prediction will therefore all other unnecessary columns and move with only the necessary columns for model. This is an important set in modeling\n"
      ],
      "metadata": {
        "id": "N4mEBdGemS31"
      }
    },
    {
      "cell_type": "code",
      "source": [
        "df.drop(columns=['date', 'yr_built', 'yr_renovated', 'street', 'city',\n",
        "       'statezip', 'country', 'sqft_lot'], inplace=True, axis=1)\n",
        "df.head()"
      ],
      "metadata": {
        "id": "B_Km_vmtFkLb",
        "colab": {
          "base_uri": "https://localhost:8080/",
          "height": 206
        },
        "outputId": "103e52fd-efad-4e12-de96-e3572c33c7bc"
      },
      "execution_count": 20,
      "outputs": [
        {
          "output_type": "execute_result",
          "data": {
            "text/plain": [
              "       price  bedrooms  bathrooms  sqft_living  floors  waterfront  view  \\\n",
              "0   313000.0       3.0       1.50         1340     1.5           0     0   \n",
              "1  2384000.0       5.0       2.50         3650     2.0           0     4   \n",
              "2   342000.0       3.0       2.00         1930     1.0           0     0   \n",
              "3   420000.0       3.0       2.25         2000     1.0           0     0   \n",
              "4   550000.0       4.0       2.50         1940     1.0           0     0   \n",
              "\n",
              "   condition  sqft_above  sqft_basement  \n",
              "0          3        1340              0  \n",
              "1          5        3370            280  \n",
              "2          4        1930              0  \n",
              "3          4        1000           1000  \n",
              "4          4        1140            800  "
            ],
            "text/html": [
              "\n",
              "  <div id=\"df-2312d5e3-5cd0-4810-8ff6-0ec0ac323789\">\n",
              "    <div class=\"colab-df-container\">\n",
              "      <div>\n",
              "<style scoped>\n",
              "    .dataframe tbody tr th:only-of-type {\n",
              "        vertical-align: middle;\n",
              "    }\n",
              "\n",
              "    .dataframe tbody tr th {\n",
              "        vertical-align: top;\n",
              "    }\n",
              "\n",
              "    .dataframe thead th {\n",
              "        text-align: right;\n",
              "    }\n",
              "</style>\n",
              "<table border=\"1\" class=\"dataframe\">\n",
              "  <thead>\n",
              "    <tr style=\"text-align: right;\">\n",
              "      <th></th>\n",
              "      <th>price</th>\n",
              "      <th>bedrooms</th>\n",
              "      <th>bathrooms</th>\n",
              "      <th>sqft_living</th>\n",
              "      <th>floors</th>\n",
              "      <th>waterfront</th>\n",
              "      <th>view</th>\n",
              "      <th>condition</th>\n",
              "      <th>sqft_above</th>\n",
              "      <th>sqft_basement</th>\n",
              "    </tr>\n",
              "  </thead>\n",
              "  <tbody>\n",
              "    <tr>\n",
              "      <th>0</th>\n",
              "      <td>313000.0</td>\n",
              "      <td>3.0</td>\n",
              "      <td>1.50</td>\n",
              "      <td>1340</td>\n",
              "      <td>1.5</td>\n",
              "      <td>0</td>\n",
              "      <td>0</td>\n",
              "      <td>3</td>\n",
              "      <td>1340</td>\n",
              "      <td>0</td>\n",
              "    </tr>\n",
              "    <tr>\n",
              "      <th>1</th>\n",
              "      <td>2384000.0</td>\n",
              "      <td>5.0</td>\n",
              "      <td>2.50</td>\n",
              "      <td>3650</td>\n",
              "      <td>2.0</td>\n",
              "      <td>0</td>\n",
              "      <td>4</td>\n",
              "      <td>5</td>\n",
              "      <td>3370</td>\n",
              "      <td>280</td>\n",
              "    </tr>\n",
              "    <tr>\n",
              "      <th>2</th>\n",
              "      <td>342000.0</td>\n",
              "      <td>3.0</td>\n",
              "      <td>2.00</td>\n",
              "      <td>1930</td>\n",
              "      <td>1.0</td>\n",
              "      <td>0</td>\n",
              "      <td>0</td>\n",
              "      <td>4</td>\n",
              "      <td>1930</td>\n",
              "      <td>0</td>\n",
              "    </tr>\n",
              "    <tr>\n",
              "      <th>3</th>\n",
              "      <td>420000.0</td>\n",
              "      <td>3.0</td>\n",
              "      <td>2.25</td>\n",
              "      <td>2000</td>\n",
              "      <td>1.0</td>\n",
              "      <td>0</td>\n",
              "      <td>0</td>\n",
              "      <td>4</td>\n",
              "      <td>1000</td>\n",
              "      <td>1000</td>\n",
              "    </tr>\n",
              "    <tr>\n",
              "      <th>4</th>\n",
              "      <td>550000.0</td>\n",
              "      <td>4.0</td>\n",
              "      <td>2.50</td>\n",
              "      <td>1940</td>\n",
              "      <td>1.0</td>\n",
              "      <td>0</td>\n",
              "      <td>0</td>\n",
              "      <td>4</td>\n",
              "      <td>1140</td>\n",
              "      <td>800</td>\n",
              "    </tr>\n",
              "  </tbody>\n",
              "</table>\n",
              "</div>\n",
              "      <button class=\"colab-df-convert\" onclick=\"convertToInteractive('df-2312d5e3-5cd0-4810-8ff6-0ec0ac323789')\"\n",
              "              title=\"Convert this dataframe to an interactive table.\"\n",
              "              style=\"display:none;\">\n",
              "        \n",
              "  <svg xmlns=\"http://www.w3.org/2000/svg\" height=\"24px\"viewBox=\"0 0 24 24\"\n",
              "       width=\"24px\">\n",
              "    <path d=\"M0 0h24v24H0V0z\" fill=\"none\"/>\n",
              "    <path d=\"M18.56 5.44l.94 2.06.94-2.06 2.06-.94-2.06-.94-.94-2.06-.94 2.06-2.06.94zm-11 1L8.5 8.5l.94-2.06 2.06-.94-2.06-.94L8.5 2.5l-.94 2.06-2.06.94zm10 10l.94 2.06.94-2.06 2.06-.94-2.06-.94-.94-2.06-.94 2.06-2.06.94z\"/><path d=\"M17.41 7.96l-1.37-1.37c-.4-.4-.92-.59-1.43-.59-.52 0-1.04.2-1.43.59L10.3 9.45l-7.72 7.72c-.78.78-.78 2.05 0 2.83L4 21.41c.39.39.9.59 1.41.59.51 0 1.02-.2 1.41-.59l7.78-7.78 2.81-2.81c.8-.78.8-2.07 0-2.86zM5.41 20L4 18.59l7.72-7.72 1.47 1.35L5.41 20z\"/>\n",
              "  </svg>\n",
              "      </button>\n",
              "      \n",
              "  <style>\n",
              "    .colab-df-container {\n",
              "      display:flex;\n",
              "      flex-wrap:wrap;\n",
              "      gap: 12px;\n",
              "    }\n",
              "\n",
              "    .colab-df-convert {\n",
              "      background-color: #E8F0FE;\n",
              "      border: none;\n",
              "      border-radius: 50%;\n",
              "      cursor: pointer;\n",
              "      display: none;\n",
              "      fill: #1967D2;\n",
              "      height: 32px;\n",
              "      padding: 0 0 0 0;\n",
              "      width: 32px;\n",
              "    }\n",
              "\n",
              "    .colab-df-convert:hover {\n",
              "      background-color: #E2EBFA;\n",
              "      box-shadow: 0px 1px 2px rgba(60, 64, 67, 0.3), 0px 1px 3px 1px rgba(60, 64, 67, 0.15);\n",
              "      fill: #174EA6;\n",
              "    }\n",
              "\n",
              "    [theme=dark] .colab-df-convert {\n",
              "      background-color: #3B4455;\n",
              "      fill: #D2E3FC;\n",
              "    }\n",
              "\n",
              "    [theme=dark] .colab-df-convert:hover {\n",
              "      background-color: #434B5C;\n",
              "      box-shadow: 0px 1px 3px 1px rgba(0, 0, 0, 0.15);\n",
              "      filter: drop-shadow(0px 1px 2px rgba(0, 0, 0, 0.3));\n",
              "      fill: #FFFFFF;\n",
              "    }\n",
              "  </style>\n",
              "\n",
              "      <script>\n",
              "        const buttonEl =\n",
              "          document.querySelector('#df-2312d5e3-5cd0-4810-8ff6-0ec0ac323789 button.colab-df-convert');\n",
              "        buttonEl.style.display =\n",
              "          google.colab.kernel.accessAllowed ? 'block' : 'none';\n",
              "\n",
              "        async function convertToInteractive(key) {\n",
              "          const element = document.querySelector('#df-2312d5e3-5cd0-4810-8ff6-0ec0ac323789');\n",
              "          const dataTable =\n",
              "            await google.colab.kernel.invokeFunction('convertToInteractive',\n",
              "                                                     [key], {});\n",
              "          if (!dataTable) return;\n",
              "\n",
              "          const docLinkHtml = 'Like what you see? Visit the ' +\n",
              "            '<a target=\"_blank\" href=https://colab.research.google.com/notebooks/data_table.ipynb>data table notebook</a>'\n",
              "            + ' to learn more about interactive tables.';\n",
              "          element.innerHTML = '';\n",
              "          dataTable['output_type'] = 'display_data';\n",
              "          await google.colab.output.renderOutput(dataTable, element);\n",
              "          const docLink = document.createElement('div');\n",
              "          docLink.innerHTML = docLinkHtml;\n",
              "          element.appendChild(docLink);\n",
              "        }\n",
              "      </script>\n",
              "    </div>\n",
              "  </div>\n",
              "  "
            ]
          },
          "metadata": {},
          "execution_count": 20
        }
      ]
    },
    {
      "cell_type": "markdown",
      "source": [
        "Now we need to separate our target from predictor variable. Also we need to split our data set to train and test data set.\n"
      ],
      "metadata": {
        "id": "apFkLS5bno50"
      }
    },
    {
      "cell_type": "code",
      "source": [
        "#separating features and target for use in modelling\n",
        "\n",
        "X = df.drop(['price'], axis=1)\n",
        "\n",
        "y = df['price']"
      ],
      "metadata": {
        "id": "gsBDHNgSFkH9"
      },
      "execution_count": 21,
      "outputs": []
    },
    {
      "cell_type": "code",
      "source": [
        "# Splitting dataset to train and test sets 80% train and 20% test\n",
        "from sklearn.model_selection import train_test_split\n",
        "\n",
        "X_train, X_test, y_train, y_test = train_test_split(X, y, test_size = .2, random_state=0)"
      ],
      "metadata": {
        "id": "8HL5e_HJFkEv"
      },
      "execution_count": 22,
      "outputs": []
    },
    {
      "cell_type": "markdown",
      "source": [
        "**Feature scaling**\n",
        "\n",
        "This is the process of normalizing the range of features in a dataset\n",
        "\n",
        "In simpler terms data sets contain features of varying degree of magnitude, ranges and units.\n",
        "\n",
        "For a model to interpret these features they have to be put on the same scale\n",
        "3 different scalers in the Scikit-learn library for feature scaling and they are:\n",
        "\n",
        "* MinMaxScaler\n",
        "* StandardScaler\n",
        "* RobustScaler\n",
        "\n",
        "*** 1. Normalization also called Min-Max scaling***\n",
        "\n",
        "This is a scaling technique whereby the values in a column are shifted so that they are bounded between a fixed range of 0 and 1.\n",
        "\n",
        "**Goal**:  make the data homogenous over all records and fields. It helps in creating a linkage between the entry data which in turn helps in cleaning and improving data quality.\n",
        "\n",
        "Normalization feature scaling, is only required when the data distribution is unknown or the data doesn't have Gaussian Distribution. \n",
        "\n",
        "used when the data has a diversified scope and the algorithms on which the data are being trained do not make presumptions about the data distribution such as Artificial Neural Network.\n",
        "\n",
        " MinMaxScaler is the  function for normalisation.\n",
        "\n",
        "            X_new = (X - X_min) / (X_max - X_min)\n",
        "\n",
        "\n",
        "***2. Standardization also called  Z-score normalisation***\n",
        "\n",
        " This is a scaling technique whereby the values in a column are rescaled so that they demonstrate the properties of a standard Gaussian distribution, that is mean = 0 and variance = 1.\n",
        " Standardized data is usually preferred when data is being used for multivariate analysis.  Data has gaussian distribution. No this isn't always true but is considered more effective when applied to Gaussian distribution. \n",
        "\n",
        " StandardScaler is function for standardisation.\n",
        "\n",
        "              X_new = (X - mean) / std\n",
        "\n",
        "\n"
      ],
      "metadata": {
        "id": "s0O1DuRMpEH1"
      }
    },
    {
      "cell_type": "markdown",
      "source": [
        "Will perform feature scaling for our data set and since it isn't gaussian and this is a linear regression case will be using standardization.\n",
        "\n",
        "It's also important to note that feature scaling is applied to both train and test data set. However, we only fit and transform train data set and for the test set we only transform. This is because if you fit the test data it will compute a new mean and variance letting our model learn from test data set too eliminating the element of 'surprise' to our model."
      ],
      "metadata": {
        "id": "MD0_cBBkq5AW"
      }
    },
    {
      "cell_type": "code",
      "source": [
        "#scaled features\n",
        "\n",
        "sc = StandardScaler()\n",
        "X_train_sc = sc.fit_transform(X_train)\n",
        "X_test_sc = sc.transform(X_test)\n",
        "\n"
      ],
      "metadata": {
        "id": "srC_QY1-FkBY"
      },
      "execution_count": 23,
      "outputs": []
    },
    {
      "cell_type": "code",
      "source": [
        "#Let's highlight the mean and range in the target column\n",
        "print(\"mean: \", y.mean())\n",
        "print(\"range: \", (y.max() - y.min()))\n",
        "\n",
        "\n",
        "#This will be used as a reference while evaluating our model"
      ],
      "metadata": {
        "id": "RctPoDl3Fj-N",
        "colab": {
          "base_uri": "https://localhost:8080/"
        },
        "outputId": "93b98865-a9d3-4f0c-c0ba-ed7543e0be13"
      },
      "execution_count": 24,
      "outputs": [
        {
          "output_type": "stream",
          "name": "stdout",
          "text": [
            "mean:  551962.9884732141\n",
            "range:  26590000.0\n"
          ]
        }
      ]
    },
    {
      "cell_type": "code",
      "source": [
        "#creating a list that will track rmses\n",
        "rmses = []"
      ],
      "metadata": {
        "id": "hPto3jRkFj64"
      },
      "execution_count": 25,
      "outputs": []
    },
    {
      "cell_type": "markdown",
      "source": [
        "# **Baseline Model**\n",
        "\n",
        "Will start by creating a baseline model where no hyperparameter are tuned. will come to that later"
      ],
      "metadata": {
        "id": "np8P2bEFtT97"
      }
    },
    {
      "cell_type": "code",
      "source": [
        "#using scaled features \n",
        "\n",
        "#fitting linear model\n",
        "regression = LinearRegression()\n",
        "regression.fit(X_train_sc,y_train)\n",
        "\n",
        "#predicting on unseen data\n",
        "y_pred = regression.predict(X_test_sc)\n",
        "\n",
        "#evaluating model\n",
        "mse = metrics.mean_squared_error(y_test, y_pred)\n",
        "rmse = np.sqrt(mean_squared_error(y_test,y_pred))\n",
        "\n",
        "rmses.append((f'Baseline linear model RMSE: {rmse}'))\n",
        "\n",
        "\n",
        "print('Mean Squared Error:', mse)\n",
        "print('Root Mean Squared Error:', rmse)"
      ],
      "metadata": {
        "id": "qRJZCbMRFj4k",
        "colab": {
          "base_uri": "https://localhost:8080/"
        },
        "outputId": "a4ffa88b-d9d4-4b31-d8cc-7a5f08309a7d"
      },
      "execution_count": 26,
      "outputs": [
        {
          "output_type": "stream",
          "name": "stdout",
          "text": [
            "Mean Squared Error: 72104998118.24356\n",
            "Root Mean Squared Error: 268523.73846318235\n"
          ]
        }
      ]
    },
    {
      "cell_type": "code",
      "source": [
        "#Printing our baseline RMSE\n",
        "rmses"
      ],
      "metadata": {
        "id": "aH5Zb3RsFj0o",
        "colab": {
          "base_uri": "https://localhost:8080/"
        },
        "outputId": "fd34671d-8b00-4426-b6a3-ec6e563ae53d"
      },
      "execution_count": 27,
      "outputs": [
        {
          "output_type": "execute_result",
          "data": {
            "text/plain": [
              "['Baseline linear model RMSE: 268523.73846318235']"
            ]
          },
          "metadata": {},
          "execution_count": 27
        }
      ]
    },
    {
      "cell_type": "markdown",
      "source": [
        "## **Hyper Parameter tuning in Linear Regression**\n",
        "\n",
        "\n",
        "Hyperparameter tuning is the process of selecting the optimal values for a model's hyperparameters. Hyperparameters are the parameters that are set prior to training a machine learning model and are not learned from the data during the training process. They control the overall behavior of the model and can have a significant impact on the model's performance.\n",
        "\n",
        "For our case we have first build a baseline model, will then tune various parameter and see if our model improves. \n",
        "\n",
        "It's important to note that each algorthm has different approach on how parameters are tuned to get the best out of the model.\n",
        "\n"
      ],
      "metadata": {
        "id": "xUeoK1ZtuE3E"
      }
    },
    {
      "cell_type": "markdown",
      "source": [
        "***a. checking for homoscedasticity***\n",
        "\n",
        "Homoscedasticity is a statistical property that refers to the assumption that the variance of the error term in a statistical model is constant. In other words, it means that the error term has the same variance regardless of the value of the predictor variables.\n",
        "\n",
        "Homoscedasticity is an important assumption in many statistical models, including linear regression. If the error term is not homoscedastic, it can lead to biased and inconsistent estimates of the model's parameters, as well as incorrect standard errors and confidence intervals.\n",
        "\n",
        "There are several ways to test for homoscedasticity in a statistical model. One common method is to plot the residuals (the difference between the observed values and the predicted values) against the predicted values and look for patterns. If the variance of the residuals is constant, the plot will show a horizontal band of points. If the variance is not constant, the plot will show a cone-shaped pattern, with the points becoming more widely spread out as the predicted values increase or decrease.\n",
        "\n",
        "If homoscedasticity is not present in the data, there are several ways to address it. One option is to transform the predictor variables or the response variable to make the variance of the error term more constant. Another option is to use a generalized linear model or a non-parametric model that is more robust to non-constant variance."
      ],
      "metadata": {
        "id": "wWDu6tOfverf"
      }
    },
    {
      "cell_type": "code",
      "source": [
        "# Creating the residuals by substracting the test value from the predicted \n",
        "# value for each row in the test dataset\n",
        "\n",
        "residuals = np.subtract(y_pred, y_test)\n",
        "\n",
        "\n",
        "#plotting residuals\n",
        "plt.scatter(y_pred, residuals, color='black')\n",
        "plt.ylabel('residual')\n",
        "plt.xlabel('fitted values')\n",
        "plt.axhline(y= residuals.mean(), color='red', linewidth=1)\n",
        "plt.title('Residuals against fitted values')\n",
        "plt.show()"
      ],
      "metadata": {
        "id": "_XVozDcDFjw2",
        "colab": {
          "base_uri": "https://localhost:8080/",
          "height": 295
        },
        "outputId": "9b24c054-c959-4f94-fed3-ea36628d8b9d"
      },
      "execution_count": 28,
      "outputs": [
        {
          "output_type": "display_data",
          "data": {
            "text/plain": [
              "<Figure size 432x288 with 1 Axes>"
            ],
            "image/png": "[encoded data removed]"
          },
          "metadata": {
            "needs_background": "light"
          }
        }
      ]
    },
    {
      "cell_type": "markdown",
      "source": [
        "Data shows heterosckedascticity. Will be tested using Barlett's test to confirm."
      ],
      "metadata": {
        "id": "8mgMocfXv1SI"
      }
    },
    {
      "cell_type": "code",
      "source": [
        "#assessing heteroscedasticity using Barlett's test\n",
        "\n",
        "test_result, p_value = sp.stats.bartlett(y_pred, residuals)\n",
        "\n",
        "\n",
        "# If the pvalue is less than the significance level of 0.05, then the null\n",
        "# hypothesis is rejected - the variance is different for at least one pair of datapoints\n",
        "\n",
        "# Otherwise the null hypothesis that \n",
        "# the variance is homogeneous across the data\n",
        "\n",
        "#using significance level of 0.05:\n",
        "if (p_value < 0.05 ):\n",
        "  print('the variances are not homogenous')\n",
        "else:\n",
        "  print('the variances are homogeneous across the data')"
      ],
      "metadata": {
        "id": "N0Msb14EFjtf",
        "colab": {
          "base_uri": "https://localhost:8080/"
        },
        "outputId": "a4f31d07-61a6-4cb7-edd6-32ad60201ff1"
      },
      "execution_count": 29,
      "outputs": [
        {
          "output_type": "stream",
          "name": "stdout",
          "text": [
            "the variances are not homogenous\n"
          ]
        }
      ]
    },
    {
      "cell_type": "markdown",
      "source": [
        "With this will check if residuals are normally distributed"
      ],
      "metadata": {
        "id": "T1-CFz5Jv9Ca"
      }
    },
    {
      "cell_type": "code",
      "source": [
        "# importing the shapiro function\n",
        "from scipy.stats import shapiro \n",
        "\n",
        "\n",
        "# testing for normality. extracting statistic and p value\n",
        "stat, p = shapiro(residuals)\n",
        "\n",
        "\n",
        "# interpreting\n",
        "alpha = 0.05\n",
        "if p > alpha:\n",
        "\tprint('Sample appears to have a normal distribution')\n",
        "else:\n",
        "\tprint('Sample does not appear to have a normal distribution')\n",
        "  "
      ],
      "metadata": {
        "colab": {
          "base_uri": "https://localhost:8080/"
        },
        "id": "FcW3gTvKv5wL",
        "outputId": "63de739b-3644-4bcd-c6f1-038883a14ed7"
      },
      "execution_count": 30,
      "outputs": [
        {
          "output_type": "stream",
          "name": "stdout",
          "text": [
            "Sample does not appear to have a normal distribution\n"
          ]
        }
      ]
    },
    {
      "cell_type": "code",
      "source": [
        "#plotting histogram of residuals\n",
        "plt.hist(residuals, bins= 10)\n",
        "plt.title(\"Histogram of residuals\")\n",
        "plt.show()\n",
        "\n",
        "print(f'\\nSkew of residuals: {residuals.skew()}')"
      ],
      "metadata": {
        "colab": {
          "base_uri": "https://localhost:8080/",
          "height": 329
        },
        "id": "1Pk_ljOYv5sk",
        "outputId": "170c8c66-e2f0-4ae8-8412-4f4280f80f42"
      },
      "execution_count": 31,
      "outputs": [
        {
          "output_type": "display_data",
          "data": {
            "text/plain": [
              "<Figure size 432x288 with 1 Axes>"
            ],
            "image/png": "[encoded data removed]"
          },
          "metadata": {
            "needs_background": "light"
          }
        },
        {
          "output_type": "stream",
          "name": "stdout",
          "text": [
            "\n",
            "Skew of residuals: -2.7604357078391164\n"
          ]
        }
      ]
    },
    {
      "cell_type": "markdown",
      "source": [
        "The residuals have a negatively skewed distribution."
      ],
      "metadata": {
        "id": "JpoR43cBwMnO"
      }
    },
    {
      "cell_type": "markdown",
      "source": [
        "***b. Multicollinearity check***\n",
        "\n",
        "Multicollinearity is a statistical phenomenon in which two or more predictor variables in a multiple regression model are highly correlated. This can lead to unstable and inconsistent estimates of the model's parameters, as well as incorrect standard errors and confidence intervals.\n",
        "\n",
        "Another assumption of linear regression is little or no multicollinearity so checking for the presence of this phenomenon is important.\n"
      ],
      "metadata": {
        "id": "WTe1_5CfwokC"
      }
    },
    {
      "cell_type": "code",
      "source": [
        "#checking for multicollinearity \n",
        "#creating function that will calculate the VIF for each feature\n",
        "def vif(df, features):\n",
        "  vif, tolerance = {}, {}\n",
        "  for feature in features:\n",
        "    #extract other features other than the one chosen as y into a list\n",
        "    X = [f for f in features if f!=feature]\n",
        "    X, y = df[X], df[feature]\n",
        "    #extract r2\n",
        "    r2 = LinearRegression().fit(X, y).score(X, y)\n",
        "    #calculate tolerance\n",
        "    tolerance[feature] = 1-r2\n",
        "    #calculate VIF\n",
        "    vif[feature] = 1/tolerance[feature]\n",
        "  return pd.DataFrame({'VIF': vif, 'Tolerance': tolerance})"
      ],
      "metadata": {
        "id": "0fbYtqf4v5pq"
      },
      "execution_count": 32,
      "outputs": []
    },
    {
      "cell_type": "code",
      "source": [
        "#checking multicollinearity\n",
        "vif(df, df.drop('price', axis=1).columns)"
      ],
      "metadata": {
        "colab": {
          "base_uri": "https://localhost:8080/",
          "height": 332
        },
        "id": "crg8x01Pv5lg",
        "outputId": "10d0590b-b78d-4e2d-801f-2539aa6c980b"
      },
      "execution_count": 50,
      "outputs": [
        {
          "output_type": "execute_result",
          "data": {
            "text/plain": [
              "                    VIF  Tolerance\n",
              "bedrooms       1.661550   0.601848\n",
              "bathrooms      2.917270   0.342786\n",
              "sqft_living         inf   0.000000\n",
              "floors         1.790054   0.558642\n",
              "waterfront     1.155340   0.865546\n",
              "view           1.327856   0.753094\n",
              "condition      1.116076   0.895996\n",
              "sqft_above          inf   0.000000\n",
              "sqft_basement       inf   0.000000"
            ],
            "text/html": [
              "\n",
              "  <div id=\"df-b7bf1692-affa-4b42-8aa9-eb5b91a58a03\">\n",
              "    <div class=\"colab-df-container\">\n",
              "      <div>\n",
              "<style scoped>\n",
              "    .dataframe tbody tr th:only-of-type {\n",
              "        vertical-align: middle;\n",
              "    }\n",
              "\n",
              "    .dataframe tbody tr th {\n",
              "        vertical-align: top;\n",
              "    }\n",
              "\n",
              "    .dataframe thead th {\n",
              "        text-align: right;\n",
              "    }\n",
              "</style>\n",
              "<table border=\"1\" class=\"dataframe\">\n",
              "  <thead>\n",
              "    <tr style=\"text-align: right;\">\n",
              "      <th></th>\n",
              "      <th>VIF</th>\n",
              "      <th>Tolerance</th>\n",
              "    </tr>\n",
              "  </thead>\n",
              "  <tbody>\n",
              "    <tr>\n",
              "      <th>bedrooms</th>\n",
              "      <td>1.661550</td>\n",
              "      <td>0.601848</td>\n",
              "    </tr>\n",
              "    <tr>\n",
              "      <th>bathrooms</th>\n",
              "      <td>2.917270</td>\n",
              "      <td>0.342786</td>\n",
              "    </tr>\n",
              "    <tr>\n",
              "      <th>sqft_living</th>\n",
              "      <td>inf</td>\n",
              "      <td>0.000000</td>\n",
              "    </tr>\n",
              "    <tr>\n",
              "      <th>floors</th>\n",
              "      <td>1.790054</td>\n",
              "      <td>0.558642</td>\n",
              "    </tr>\n",
              "    <tr>\n",
              "      <th>waterfront</th>\n",
              "      <td>1.155340</td>\n",
              "      <td>0.865546</td>\n",
              "    </tr>\n",
              "    <tr>\n",
              "      <th>view</th>\n",
              "      <td>1.327856</td>\n",
              "      <td>0.753094</td>\n",
              "    </tr>\n",
              "    <tr>\n",
              "      <th>condition</th>\n",
              "      <td>1.116076</td>\n",
              "      <td>0.895996</td>\n",
              "    </tr>\n",
              "    <tr>\n",
              "      <th>sqft_above</th>\n",
              "      <td>inf</td>\n",
              "      <td>0.000000</td>\n",
              "    </tr>\n",
              "    <tr>\n",
              "      <th>sqft_basement</th>\n",
              "      <td>inf</td>\n",
              "      <td>0.000000</td>\n",
              "    </tr>\n",
              "  </tbody>\n",
              "</table>\n",
              "</div>\n",
              "      <button class=\"colab-df-convert\" onclick=\"convertToInteractive('df-b7bf1692-affa-4b42-8aa9-eb5b91a58a03')\"\n",
              "              title=\"Convert this dataframe to an interactive table.\"\n",
              "              style=\"display:none;\">\n",
              "        \n",
              "  <svg xmlns=\"http://www.w3.org/2000/svg\" height=\"24px\"viewBox=\"0 0 24 24\"\n",
              "       width=\"24px\">\n",
              "    <path d=\"M0 0h24v24H0V0z\" fill=\"none\"/>\n",
              "    <path d=\"M18.56 5.44l.94 2.06.94-2.06 2.06-.94-2.06-.94-.94-2.06-.94 2.06-2.06.94zm-11 1L8.5 8.5l.94-2.06 2.06-.94-2.06-.94L8.5 2.5l-.94 2.06-2.06.94zm10 10l.94 2.06.94-2.06 2.06-.94-2.06-.94-.94-2.06-.94 2.06-2.06.94z\"/><path d=\"M17.41 7.96l-1.37-1.37c-.4-.4-.92-.59-1.43-.59-.52 0-1.04.2-1.43.59L10.3 9.45l-7.72 7.72c-.78.78-.78 2.05 0 2.83L4 21.41c.39.39.9.59 1.41.59.51 0 1.02-.2 1.41-.59l7.78-7.78 2.81-2.81c.8-.78.8-2.07 0-2.86zM5.41 20L4 18.59l7.72-7.72 1.47 1.35L5.41 20z\"/>\n",
              "  </svg>\n",
              "      </button>\n",
              "      \n",
              "  <style>\n",
              "    .colab-df-container {\n",
              "      display:flex;\n",
              "      flex-wrap:wrap;\n",
              "      gap: 12px;\n",
              "    }\n",
              "\n",
              "    .colab-df-convert {\n",
              "      background-color: #E8F0FE;\n",
              "      border: none;\n",
              "      border-radius: 50%;\n",
              "      cursor: pointer;\n",
              "      display: none;\n",
              "      fill: #1967D2;\n",
              "      height: 32px;\n",
              "      padding: 0 0 0 0;\n",
              "      width: 32px;\n",
              "    }\n",
              "\n",
              "    .colab-df-convert:hover {\n",
              "      background-color: #E2EBFA;\n",
              "      box-shadow: 0px 1px 2px rgba(60, 64, 67, 0.3), 0px 1px 3px 1px rgba(60, 64, 67, 0.15);\n",
              "      fill: #174EA6;\n",
              "    }\n",
              "\n",
              "    [theme=dark] .colab-df-convert {\n",
              "      background-color: #3B4455;\n",
              "      fill: #D2E3FC;\n",
              "    }\n",
              "\n",
              "    [theme=dark] .colab-df-convert:hover {\n",
              "      background-color: #434B5C;\n",
              "      box-shadow: 0px 1px 3px 1px rgba(0, 0, 0, 0.15);\n",
              "      filter: drop-shadow(0px 1px 2px rgba(0, 0, 0, 0.3));\n",
              "      fill: #FFFFFF;\n",
              "    }\n",
              "  </style>\n",
              "\n",
              "      <script>\n",
              "        const buttonEl =\n",
              "          document.querySelector('#df-b7bf1692-affa-4b42-8aa9-eb5b91a58a03 button.colab-df-convert');\n",
              "        buttonEl.style.display =\n",
              "          google.colab.kernel.accessAllowed ? 'block' : 'none';\n",
              "\n",
              "        async function convertToInteractive(key) {\n",
              "          const element = document.querySelector('#df-b7bf1692-affa-4b42-8aa9-eb5b91a58a03');\n",
              "          const dataTable =\n",
              "            await google.colab.kernel.invokeFunction('convertToInteractive',\n",
              "                                                     [key], {});\n",
              "          if (!dataTable) return;\n",
              "\n",
              "          const docLinkHtml = 'Like what you see? Visit the ' +\n",
              "            '<a target=\"_blank\" href=https://colab.research.google.com/notebooks/data_table.ipynb>data table notebook</a>'\n",
              "            + ' to learn more about interactive tables.';\n",
              "          element.innerHTML = '';\n",
              "          dataTable['output_type'] = 'display_data';\n",
              "          await google.colab.output.renderOutput(dataTable, element);\n",
              "          const docLink = document.createElement('div');\n",
              "          docLink.innerHTML = docLinkHtml;\n",
              "          element.appendChild(docLink);\n",
              "        }\n",
              "      </script>\n",
              "    </div>\n",
              "  </div>\n",
              "  "
            ]
          },
          "metadata": {},
          "execution_count": 50
        }
      ]
    },
    {
      "cell_type": "markdown",
      "source": [
        "Features with a variance inflation factor > 5 include:\n",
        "\n",
        "* sqft_above\n",
        "* sqft_basement\n",
        "\n",
        "\n",
        "\n",
        "Regularisation (Ridge, lasso, and elastic net) can aid with handling multicollinearity"
      ],
      "metadata": {
        "id": "ZFle0uawxLZ6"
      }
    },
    {
      "cell_type": "markdown",
      "source": [
        "### **c. Lasso regression**\n",
        "\n",
        "Lasso regression, also known as L1 regularization, is a type of linear regression that adds a penalty term to the loss function that is proportional to the absolute value of the model's parameters. The penalty term is controlled by a hyperparameter called the regularization strength or regularization coefficient, which determines the amount of shrinkage applied to the model's parameters.\n",
        "\n",
        "Lasso regression has several properties that make it attractive for certain types of problems:\n",
        "\n",
        "1. Feature selection: Lasso regression can automatically select the most important features for the model by setting the coefficients of the less important features to zero. This can be helpful in situations where the number of features is large and there may be redundant or irrelevant features.\n",
        "\n",
        "2. Sparsity: Lasso regression tends to produce sparse models, which means that most of the model's parameters are zero. This can make the model easier to interpret and can reduce overfitting.\n",
        "\n",
        "3. Robustness: Lasso regression is relatively robust to the presence of multicollinearity in the data.\n",
        "\n",
        "One potential drawback of Lasso regression is that it can be sensitive to the scaling of the predictor variables. It is generally a good idea to scale the variables before fitting a Lasso model.\n",
        "\n",
        "To tune the hyperparameters of a Lasso model, you can use methods such as cross-validation or grid search to find the combination of hyperparameters that leads to the best model performance."
      ],
      "metadata": {
        "id": "EcJTc9SXxvmU"
      }
    },
    {
      "cell_type": "code",
      "source": [
        "#finding best hyperparameter (penalty) value for lasso\n",
        "parameters = {'alpha': np.concatenate(([0.001,0.01], np.arange(0.1,2,0.1), np.arange(2, 5, 0.5), np.arange(5, 20, 1)))}\n",
        "lasso = Lasso()\n",
        "#finding alpha value\n",
        "search = GridSearchCV(estimator=lasso,param_grid=parameters,scoring='neg_mean_squared_error')\n",
        "search.fit(X_train_sc,y_train)\n",
        "print(search.best_params_)"
      ],
      "metadata": {
        "colab": {
          "base_uri": "https://localhost:8080/"
        },
        "id": "xBTr6eJwv5iM",
        "outputId": "0d4a1e9c-5be0-4001-d8c6-59b2d0ce3473"
      },
      "execution_count": 34,
      "outputs": [
        {
          "output_type": "stream",
          "name": "stdout",
          "text": [
            "{'alpha': 14.0}\n"
          ]
        }
      ]
    },
    {
      "cell_type": "code",
      "source": [
        "#using scaled features \n",
        "\n",
        "#fitting lasso model \n",
        "lasso = Lasso(alpha=14.0)\n",
        "lasso.fit(X_train_sc,y_train)\n",
        "\n",
        "#predicting on unseen data\n",
        "y_pred = lasso.predict(X_test_sc)\n",
        "\n",
        "#evaluating model\n",
        "mse = metrics.mean_squared_error(y_test, y_pred)\n",
        "rmse = np.sqrt(mean_squared_error(y_test,y_pred))\n",
        "\n",
        "rmses.append([f'Tuned lasso model RMSE: {rmse}'])\n",
        "\n",
        "\n",
        "print('Mean Squared Error:', mse)\n",
        "print('Root Mean Squared Error:', rmse)"
      ],
      "metadata": {
        "colab": {
          "base_uri": "https://localhost:8080/"
        },
        "id": "pyZxHx-fyEq1",
        "outputId": "3edc2b0f-1069-4594-f0d7-e60c82835dea"
      },
      "execution_count": 35,
      "outputs": [
        {
          "output_type": "stream",
          "name": "stdout",
          "text": [
            "Mean Squared Error: 72032470932.63219\n",
            "Root Mean Squared Error: 268388.6564902328\n"
          ]
        }
      ]
    },
    {
      "cell_type": "code",
      "source": [
        "# let's compare our new model to our baseline\n",
        "for x in rmses:\n",
        "  print(f'\\n{x}')"
      ],
      "metadata": {
        "colab": {
          "base_uri": "https://localhost:8080/"
        },
        "id": "aJhdnqjgyvK3",
        "outputId": "8def4373-5c32-450c-8fd4-9e8390b67053"
      },
      "execution_count": 36,
      "outputs": [
        {
          "output_type": "stream",
          "name": "stdout",
          "text": [
            "\n",
            "Baseline linear model RMSE: 268523.73846318235\n",
            "\n",
            "['Tuned lasso model RMSE: 268388.6564902328']\n"
          ]
        }
      ]
    },
    {
      "cell_type": "markdown",
      "source": [
        "There is a slight improvement on our RMSE for lasso compared to our baseline model"
      ],
      "metadata": {
        "id": "6a9IUvP9y9Uj"
      }
    },
    {
      "cell_type": "markdown",
      "source": [
        "### **d. Ridge Regression**\n",
        "\n",
        "Ridge regression, also known as L2 regularization, is a type of linear regression that adds a penalty term to the loss function that is proportional to the square of the model's parameters. The penalty term is controlled by a hyperparameter called the regularization strength or regularization coefficient, which determines the amount of shrinkage applied to the model's parameters.\n",
        "\n",
        "1. Ridge regression has several properties that make it attractive for certain types of problems:\n",
        "\n",
        "2. Stability: Ridge regression can help to improve the stability and interpretability of the model by reducing the variance of the coefficients.\n",
        "\n",
        "3. Robustness: Ridge regression is relatively robust to the presence of multicollinearity in the data.\n",
        "\n",
        "4. Predictive power: Ridge regression can sometimes have better predictive performance than Lasso regression, especially when the number of features is large and there are correlated features.\n",
        "\n",
        "One potential drawback of Ridge regression is that it may be less effective at selecting the most important features for the model, as it does not set any coefficients to zero.\n",
        "\n",
        "To tune the hyperparameters of a Ridge model, you can use methods such as cross-validation or grid search to find the combination of hyperparameters that leads to the best model performance."
      ],
      "metadata": {
        "id": "GpApav1yzGH3"
      }
    },
    {
      "cell_type": "code",
      "source": [
        "#ridge regression\n",
        "#finding best alpha value. \n",
        "parameters = {'alpha': np.concatenate(([0.001,0.01], np.arange(0.1,2,0.1), np.arange(2, 5, 0.5), np.arange(5, 20, 1)))}\n",
        "ridge = Ridge(random_state=0)\n",
        "#finding alpha value\n",
        "search = GridSearchCV(estimator=ridge,param_grid=parameters,scoring='neg_mean_squared_error')\n",
        "search.fit(X_train_sc,y_train)\n",
        "print(search.best_params_)"
      ],
      "metadata": {
        "colab": {
          "base_uri": "https://localhost:8080/"
        },
        "id": "RBQnJheHyvGq",
        "outputId": "ccb6dce7-d5ab-4080-a6df-9c30cef3fb84"
      },
      "execution_count": 37,
      "outputs": [
        {
          "output_type": "stream",
          "name": "stdout",
          "text": [
            "{'alpha': 19.0}\n"
          ]
        }
      ]
    },
    {
      "cell_type": "code",
      "source": [
        "#using scaled features \n",
        "\n",
        "#fitting ridge model \n",
        "ridge = Ridge(alpha=19.0)\n",
        "ridge.fit(X_train_sc,y_train)\n",
        "\n",
        "#predicting on unseen data\n",
        "y_pred = ridge.predict(X_test_sc)\n",
        "\n",
        "#evaluating model\n",
        "mse = metrics.mean_squared_error(y_test, y_pred)\n",
        "rmse = np.sqrt(mean_squared_error(y_test,y_pred))\n",
        "\n",
        "print('Mean Squared Error:', mse)\n",
        "print('Root Mean Squared Error:', rmse)\n",
        "\n",
        "rmses.append(f'Tuned ridge model RMSE: {rmse}')\n"
      ],
      "metadata": {
        "colab": {
          "base_uri": "https://localhost:8080/"
        },
        "id": "ZX6PMGl7yvCr",
        "outputId": "689171d0-4b75-4da0-d1ff-e9d111ed25d5"
      },
      "execution_count": 38,
      "outputs": [
        {
          "output_type": "stream",
          "name": "stdout",
          "text": [
            "Mean Squared Error: 72090755365.87517\n",
            "Root Mean Squared Error: 268497.21668180317\n"
          ]
        }
      ]
    },
    {
      "cell_type": "code",
      "source": [
        "#comparing our new model to our previous two models\n",
        "\n",
        "for x in rmses:\n",
        "  print(f'\\n{x}')"
      ],
      "metadata": {
        "colab": {
          "base_uri": "https://localhost:8080/"
        },
        "id": "Rew65qihyu-k",
        "outputId": "f7cf1afb-e6b8-4cd0-edc2-e4e942a697d8"
      },
      "execution_count": 39,
      "outputs": [
        {
          "output_type": "stream",
          "name": "stdout",
          "text": [
            "\n",
            "Baseline linear model RMSE: 268523.73846318235\n",
            "\n",
            "['Tuned lasso model RMSE: 268388.6564902328']\n",
            "\n",
            "Tuned ridge model RMSE: 268497.21668180317\n"
          ]
        }
      ]
    },
    {
      "cell_type": "markdown",
      "source": [
        "RMSE in ridge regression is actually higher than that in Lasso. Hence Lasso regression is our best model so far"
      ],
      "metadata": {
        "id": "5Ax1XUsnzlwJ"
      }
    },
    {
      "cell_type": "markdown",
      "source": [
        "### **e. Elastic Net Regression**\n",
        "\n",
        "Elastic Net regression is a type of linear regression that combines the L1 and L2 regularization terms of Lasso and Ridge regression. The penalty term is controlled by two hyperparameters: the L1 ratio, which determines the weight of the L1 penalty term, and the regularization strength or regularization coefficient, which determines the overall strength of the penalty term.\n",
        "\n",
        "1. Elastic Net regression has several properties that make it attractive for certain types of problems:\n",
        "\n",
        "2. Sparsity: Like Lasso regression, Elastic Net regression can produce sparse models, with many coefficients set to zero.\n",
        "\n",
        "3. Robustness: Elastic Net regression is relatively robust to the presence of multicollinearity in the data.\n",
        "\n",
        "4. Flexibility: Elastic Net regression allows for a balance between the sparsity of Lasso regression and the stability of Ridge regression, depending on the values of the L1 ratio and the regularization strength.\n",
        "\n",
        "To tune the hyperparameters of an Elastic Net model, you can use methods such as cross-validation or grid search to find the combination of hyperparameters that leads to the best model performance. It is important to carefully choose the values of the L1 ratio and the regularization strength to achieve the desired trade-off between sparsity and stability.\n",
        "\n",
        "\n"
      ],
      "metadata": {
        "id": "SCd_nxdYzzjJ"
      }
    },
    {
      "cell_type": "code",
      "source": [
        "#finding best hyperparameter values - alpha and l1_ratio\n",
        "elastic=ElasticNet()\n",
        "parameters = {'alpha': np.concatenate(([0.0001,0.001,0.01], np.arange(0.1,2,0.1), np.arange(2, 5, 0.5), np.arange(5, 20, 1))),\n",
        "              'l1_ratio':[.2,.4,.6,.8,1]}\n",
        "\n",
        "search=GridSearchCV(estimator=elastic,param_grid=parameters,scoring='neg_mean_squared_error')\n",
        "\n",
        "search.fit(X_train_sc,y_train)\n",
        "print(search.best_params_)"
      ],
      "metadata": {
        "colab": {
          "base_uri": "https://localhost:8080/"
        },
        "id": "xX1XAOjBzwFq",
        "outputId": "cd740d39-bdd6-469f-a885-04f3bcbf97fa"
      },
      "execution_count": 40,
      "outputs": [
        {
          "output_type": "stream",
          "name": "stdout",
          "text": [
            "{'alpha': 0.1, 'l1_ratio': 0.6}\n"
          ]
        }
      ]
    },
    {
      "cell_type": "code",
      "source": [
        "#using scaled features \n",
        "\n",
        "#fitting model\n",
        "elastic=ElasticNet(alpha=0.1,l1_ratio=0.6)\n",
        "elastic.fit(X_train_sc,y_train)\n",
        "\n",
        "#predicting on unseen data\n",
        "y_pred = elastic.predict(X_test_sc)\n",
        "\n",
        "#evaluating model\n",
        "\n",
        "mse = metrics.mean_squared_error(y_test, y_pred)\n",
        "rmse = np.sqrt(mean_squared_error(y_test,y_pred))\n",
        "\n",
        "rmses.append(f'Tuned elastic net model RMSE: {rmse}')\n",
        "\n",
        "print('Mean Squared Error:', mse)\n",
        "print('Root Mean Squared Error:', rmse)"
      ],
      "metadata": {
        "colab": {
          "base_uri": "https://localhost:8080/"
        },
        "id": "oMj8Qse0zwlx",
        "outputId": "ccc1e7f8-ff9b-42bd-a0a0-2ee203bce6a4"
      },
      "execution_count": 41,
      "outputs": [
        {
          "output_type": "stream",
          "name": "stdout",
          "text": [
            "Mean Squared Error: 72521878618.02437\n",
            "Root Mean Squared Error: 269298.86486582964\n"
          ]
        }
      ]
    },
    {
      "cell_type": "code",
      "source": [
        "# comparing our four models\n",
        "\n",
        "for x in rmses:\n",
        "  print(f'\\n{x}')"
      ],
      "metadata": {
        "colab": {
          "base_uri": "https://localhost:8080/"
        },
        "id": "xX1yCmpRzwh3",
        "outputId": "254d8a4c-6571-4dd7-b5f3-0cc65d64a0e4"
      },
      "execution_count": 42,
      "outputs": [
        {
          "output_type": "stream",
          "name": "stdout",
          "text": [
            "\n",
            "Baseline linear model RMSE: 268523.73846318235\n",
            "\n",
            "['Tuned lasso model RMSE: 268388.6564902328']\n",
            "\n",
            "Tuned ridge model RMSE: 268497.21668180317\n",
            "\n",
            "Tuned elastic net model RMSE: 269298.86486582964\n"
          ]
        }
      ]
    },
    {
      "cell_type": "markdown",
      "source": [
        "Elastic net is worst than our baseline model making Lasso the best model"
      ],
      "metadata": {
        "id": "uKhib2a90xHY"
      }
    },
    {
      "cell_type": "markdown",
      "source": [
        "## **Comparing coefficients**"
      ],
      "metadata": {
        "id": "cKh7TqJX07-8"
      }
    },
    {
      "cell_type": "code",
      "source": [
        "#list with feature names\n",
        "x_cols = X.columns\n",
        "x_cols"
      ],
      "metadata": {
        "colab": {
          "base_uri": "https://localhost:8080/"
        },
        "id": "Fnn2nB8x1t6p",
        "outputId": "e9a3d956-4692-4342-f6fb-0f7a76be0c7d"
      },
      "execution_count": 47,
      "outputs": [
        {
          "output_type": "execute_result",
          "data": {
            "text/plain": [
              "Index(['bedrooms', 'bathrooms', 'sqft_living', 'floors', 'waterfront', 'view',\n",
              "       'condition', 'sqft_above', 'sqft_basement'],\n",
              "      dtype='object')"
            ]
          },
          "metadata": {},
          "execution_count": 47
        }
      ]
    },
    {
      "cell_type": "code",
      "source": [
        "#creating dataframe with coefficients and rank of coefficients' absolute values\n",
        "df_coef = pd.DataFrame(regression.coef_, columns=['linear'], index=x_cols)\n",
        "df_coef['linear rank'] = df_coef['linear'].apply(lambda x: abs(x)).rank(ascending=False)\n",
        "df_coef['lasso'] = lasso.coef_\n",
        "df_coef['lasso rank'] = df_coef['lasso'].apply(lambda x: abs(x)).rank(ascending=False)\n",
        "df_coef['ridge'] = ridge.coef_\n",
        "df_coef['ridge rank'] = df_coef['ridge'].apply(lambda x: abs(x)).rank(ascending=False)\n",
        "df_coef['elastic'] = elastic.coef_\n",
        "df_coef['elastic rank'] = df_coef['elastic'].apply(lambda x: abs(x)).rank(ascending=False)\n",
        "\n",
        "\n",
        "df_coef.sort_values(by=['linear rank'])"
      ],
      "metadata": {
        "colab": {
          "base_uri": "https://localhost:8080/",
          "height": 332
        },
        "id": "pWZr2h0zzwdQ",
        "outputId": "1bc763e8-b7e1-421e-ad9b-ea6c09b93749"
      },
      "execution_count": 48,
      "outputs": [
        {
          "output_type": "execute_result",
          "data": {
            "text/plain": [
              "                     linear  linear rank          lasso  lasso rank  \\\n",
              "sqft_living   -3.137899e+18          1.0  228311.071073         1.0   \n",
              "sqft_above     2.767079e+18          2.0       0.000000         9.0   \n",
              "sqft_basement  1.524912e+18          3.0    7409.059745         8.0   \n",
              "bedrooms      -4.909821e+04          4.0  -46171.345587         2.0   \n",
              "view           4.111802e+04          5.0   41399.468133         3.0   \n",
              "condition      3.878944e+04          6.0   38556.243813         4.0   \n",
              "waterfront     2.687341e+04          7.0   26633.790189         5.0   \n",
              "bathrooms      2.314286e+04          8.0   20362.179936         6.0   \n",
              "floors         9.055635e+03          9.0    9369.811815         7.0   \n",
              "\n",
              "                       ridge  ridge rank        elastic  elastic rank  \n",
              "sqft_living    115885.939719         1.0  110696.530981           1.0  \n",
              "sqft_above      97683.071603         2.0   93263.218752           2.0  \n",
              "sqft_basement   61211.160080         3.0   58551.274170           3.0  \n",
              "bedrooms       -45308.961314         4.0  -39725.854331           5.0  \n",
              "view            41514.779390         5.0   42105.616255           4.0  \n",
              "condition       38332.577023         6.0   36772.387668           6.0  \n",
              "waterfront      26615.740509         7.0   26428.056356           7.0  \n",
              "bathrooms       21039.842855         8.0   24811.482301           8.0  \n",
              "floors           9340.739626         9.0    9160.828498           9.0  "
            ],
            "text/html": [
              "\n",
              "  <div id=\"df-34868cf4-26da-4a92-a863-79f9486f1fa8\">\n",
              "    <div class=\"colab-df-container\">\n",
              "      <div>\n",
              "<style scoped>\n",
              "    .dataframe tbody tr th:only-of-type {\n",
              "        vertical-align: middle;\n",
              "    }\n",
              "\n",
              "    .dataframe tbody tr th {\n",
              "        vertical-align: top;\n",
              "    }\n",
              "\n",
              "    .dataframe thead th {\n",
              "        text-align: right;\n",
              "    }\n",
              "</style>\n",
              "<table border=\"1\" class=\"dataframe\">\n",
              "  <thead>\n",
              "    <tr style=\"text-align: right;\">\n",
              "      <th></th>\n",
              "      <th>linear</th>\n",
              "      <th>linear rank</th>\n",
              "      <th>lasso</th>\n",
              "      <th>lasso rank</th>\n",
              "      <th>ridge</th>\n",
              "      <th>ridge rank</th>\n",
              "      <th>elastic</th>\n",
              "      <th>elastic rank</th>\n",
              "    </tr>\n",
              "  </thead>\n",
              "  <tbody>\n",
              "    <tr>\n",
              "      <th>sqft_living</th>\n",
              "      <td>-3.137899e+18</td>\n",
              "      <td>1.0</td>\n",
              "      <td>228311.071073</td>\n",
              "      <td>1.0</td>\n",
              "      <td>115885.939719</td>\n",
              "      <td>1.0</td>\n",
              "      <td>110696.530981</td>\n",
              "      <td>1.0</td>\n",
              "    </tr>\n",
              "    <tr>\n",
              "      <th>sqft_above</th>\n",
              "      <td>2.767079e+18</td>\n",
              "      <td>2.0</td>\n",
              "      <td>0.000000</td>\n",
              "      <td>9.0</td>\n",
              "      <td>97683.071603</td>\n",
              "      <td>2.0</td>\n",
              "      <td>93263.218752</td>\n",
              "      <td>2.0</td>\n",
              "    </tr>\n",
              "    <tr>\n",
              "      <th>sqft_basement</th>\n",
              "      <td>1.524912e+18</td>\n",
              "      <td>3.0</td>\n",
              "      <td>7409.059745</td>\n",
              "      <td>8.0</td>\n",
              "      <td>61211.160080</td>\n",
              "      <td>3.0</td>\n",
              "      <td>58551.274170</td>\n",
              "      <td>3.0</td>\n",
              "    </tr>\n",
              "    <tr>\n",
              "      <th>bedrooms</th>\n",
              "      <td>-4.909821e+04</td>\n",
              "      <td>4.0</td>\n",
              "      <td>-46171.345587</td>\n",
              "      <td>2.0</td>\n",
              "      <td>-45308.961314</td>\n",
              "      <td>4.0</td>\n",
              "      <td>-39725.854331</td>\n",
              "      <td>5.0</td>\n",
              "    </tr>\n",
              "    <tr>\n",
              "      <th>view</th>\n",
              "      <td>4.111802e+04</td>\n",
              "      <td>5.0</td>\n",
              "      <td>41399.468133</td>\n",
              "      <td>3.0</td>\n",
              "      <td>41514.779390</td>\n",
              "      <td>5.0</td>\n",
              "      <td>42105.616255</td>\n",
              "      <td>4.0</td>\n",
              "    </tr>\n",
              "    <tr>\n",
              "      <th>condition</th>\n",
              "      <td>3.878944e+04</td>\n",
              "      <td>6.0</td>\n",
              "      <td>38556.243813</td>\n",
              "      <td>4.0</td>\n",
              "      <td>38332.577023</td>\n",
              "      <td>6.0</td>\n",
              "      <td>36772.387668</td>\n",
              "      <td>6.0</td>\n",
              "    </tr>\n",
              "    <tr>\n",
              "      <th>waterfront</th>\n",
              "      <td>2.687341e+04</td>\n",
              "      <td>7.0</td>\n",
              "      <td>26633.790189</td>\n",
              "      <td>5.0</td>\n",
              "      <td>26615.740509</td>\n",
              "      <td>7.0</td>\n",
              "      <td>26428.056356</td>\n",
              "      <td>7.0</td>\n",
              "    </tr>\n",
              "    <tr>\n",
              "      <th>bathrooms</th>\n",
              "      <td>2.314286e+04</td>\n",
              "      <td>8.0</td>\n",
              "      <td>20362.179936</td>\n",
              "      <td>6.0</td>\n",
              "      <td>21039.842855</td>\n",
              "      <td>8.0</td>\n",
              "      <td>24811.482301</td>\n",
              "      <td>8.0</td>\n",
              "    </tr>\n",
              "    <tr>\n",
              "      <th>floors</th>\n",
              "      <td>9.055635e+03</td>\n",
              "      <td>9.0</td>\n",
              "      <td>9369.811815</td>\n",
              "      <td>7.0</td>\n",
              "      <td>9340.739626</td>\n",
              "      <td>9.0</td>\n",
              "      <td>9160.828498</td>\n",
              "      <td>9.0</td>\n",
              "    </tr>\n",
              "  </tbody>\n",
              "</table>\n",
              "</div>\n",
              "      <button class=\"colab-df-convert\" onclick=\"convertToInteractive('df-34868cf4-26da-4a92-a863-79f9486f1fa8')\"\n",
              "              title=\"Convert this dataframe to an interactive table.\"\n",
              "              style=\"display:none;\">\n",
              "        \n",
              "  <svg xmlns=\"http://www.w3.org/2000/svg\" height=\"24px\"viewBox=\"0 0 24 24\"\n",
              "       width=\"24px\">\n",
              "    <path d=\"M0 0h24v24H0V0z\" fill=\"none\"/>\n",
              "    <path d=\"M18.56 5.44l.94 2.06.94-2.06 2.06-.94-2.06-.94-.94-2.06-.94 2.06-2.06.94zm-11 1L8.5 8.5l.94-2.06 2.06-.94-2.06-.94L8.5 2.5l-.94 2.06-2.06.94zm10 10l.94 2.06.94-2.06 2.06-.94-2.06-.94-.94-2.06-.94 2.06-2.06.94z\"/><path d=\"M17.41 7.96l-1.37-1.37c-.4-.4-.92-.59-1.43-.59-.52 0-1.04.2-1.43.59L10.3 9.45l-7.72 7.72c-.78.78-.78 2.05 0 2.83L4 21.41c.39.39.9.59 1.41.59.51 0 1.02-.2 1.41-.59l7.78-7.78 2.81-2.81c.8-.78.8-2.07 0-2.86zM5.41 20L4 18.59l7.72-7.72 1.47 1.35L5.41 20z\"/>\n",
              "  </svg>\n",
              "      </button>\n",
              "      \n",
              "  <style>\n",
              "    .colab-df-container {\n",
              "      display:flex;\n",
              "      flex-wrap:wrap;\n",
              "      gap: 12px;\n",
              "    }\n",
              "\n",
              "    .colab-df-convert {\n",
              "      background-color: #E8F0FE;\n",
              "      border: none;\n",
              "      border-radius: 50%;\n",
              "      cursor: pointer;\n",
              "      display: none;\n",
              "      fill: #1967D2;\n",
              "      height: 32px;\n",
              "      padding: 0 0 0 0;\n",
              "      width: 32px;\n",
              "    }\n",
              "\n",
              "    .colab-df-convert:hover {\n",
              "      background-color: #E2EBFA;\n",
              "      box-shadow: 0px 1px 2px rgba(60, 64, 67, 0.3), 0px 1px 3px 1px rgba(60, 64, 67, 0.15);\n",
              "      fill: #174EA6;\n",
              "    }\n",
              "\n",
              "    [theme=dark] .colab-df-convert {\n",
              "      background-color: #3B4455;\n",
              "      fill: #D2E3FC;\n",
              "    }\n",
              "\n",
              "    [theme=dark] .colab-df-convert:hover {\n",
              "      background-color: #434B5C;\n",
              "      box-shadow: 0px 1px 3px 1px rgba(0, 0, 0, 0.15);\n",
              "      filter: drop-shadow(0px 1px 2px rgba(0, 0, 0, 0.3));\n",
              "      fill: #FFFFFF;\n",
              "    }\n",
              "  </style>\n",
              "\n",
              "      <script>\n",
              "        const buttonEl =\n",
              "          document.querySelector('#df-34868cf4-26da-4a92-a863-79f9486f1fa8 button.colab-df-convert');\n",
              "        buttonEl.style.display =\n",
              "          google.colab.kernel.accessAllowed ? 'block' : 'none';\n",
              "\n",
              "        async function convertToInteractive(key) {\n",
              "          const element = document.querySelector('#df-34868cf4-26da-4a92-a863-79f9486f1fa8');\n",
              "          const dataTable =\n",
              "            await google.colab.kernel.invokeFunction('convertToInteractive',\n",
              "                                                     [key], {});\n",
              "          if (!dataTable) return;\n",
              "\n",
              "          const docLinkHtml = 'Like what you see? Visit the ' +\n",
              "            '<a target=\"_blank\" href=https://colab.research.google.com/notebooks/data_table.ipynb>data table notebook</a>'\n",
              "            + ' to learn more about interactive tables.';\n",
              "          element.innerHTML = '';\n",
              "          dataTable['output_type'] = 'display_data';\n",
              "          await google.colab.output.renderOutput(dataTable, element);\n",
              "          const docLink = document.createElement('div');\n",
              "          docLink.innerHTML = docLinkHtml;\n",
              "          element.appendChild(docLink);\n",
              "        }\n",
              "      </script>\n",
              "    </div>\n",
              "  </div>\n",
              "  "
            ]
          },
          "metadata": {},
          "execution_count": 48
        }
      ]
    },
    {
      "cell_type": "markdown",
      "source": [
        "# **Conclusion**\n",
        "\n",
        "The main objectives of the project were achieved:\n",
        "\n",
        "Linear regression best model is achieved after tuning hyperparameter using Lasso regression \n",
        "\n",
        "The top factors influencing the house prices are :\n",
        "* sqft_living\n",
        "* sqft_above\n",
        "\n",
        "We also have high correlation between the following variables:\n"
      ],
      "metadata": {
        "id": "hPo45Ue317h_"
      }
    }
  ]
}